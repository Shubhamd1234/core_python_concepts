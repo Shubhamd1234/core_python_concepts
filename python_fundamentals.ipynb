{
 "cells": [
  {
   "cell_type": "code",
   "execution_count": 23,
   "id": "164d1dde",
   "metadata": {},
   "outputs": [
    {
     "data": {
      "text/plain": [
       "100"
      ]
     },
     "execution_count": 23,
     "metadata": {},
     "output_type": "execute_result"
    }
   ],
   "source": [
    "a"
   ]
  },
  {
   "cell_type": "markdown",
   "id": "d47a45e3",
   "metadata": {},
   "source": [
    "# comments : are used to describe the code\n",
    "\n",
    "- in order to enhance the readibilty of the code\n",
    "- it also helps in debugging"
   ]
  },
  {
   "cell_type": "markdown",
   "id": "8cfd3b0f",
   "metadata": {},
   "source": [
    "## there are two types of comments\n",
    "- single line\n",
    "- multiline commnets "
   ]
  },
  {
   "cell_type": "markdown",
   "id": "242cf7fd",
   "metadata": {},
   "source": [
    "# single line comment : using #"
   ]
  },
  {
   "cell_type": "code",
   "execution_count": 9,
   "id": "bf80643d",
   "metadata": {},
   "outputs": [
    {
     "name": "stdout",
     "output_type": "stream",
     "text": [
      "helo\n"
     ]
    }
   ],
   "source": [
    "#this is my first code which displays hello\n",
    "print(\"helo\") # print is inbuilt function which displays the output"
   ]
  },
  {
   "cell_type": "markdown",
   "id": "1534a47e",
   "metadata": {},
   "source": [
    "# multiline comments"
   ]
  },
  {
   "cell_type": "code",
   "execution_count": 5,
   "id": "8bb2f174",
   "metadata": {},
   "outputs": [
    {
     "name": "stdout",
     "output_type": "stream",
     "text": [
      "helo\n"
     ]
    }
   ],
   "source": [
    "# this is my first code\n",
    "# here i m learning print fucntion\n",
    "# print is inbuilt function\n",
    "print(\"helo\")"
   ]
  },
  {
   "cell_type": "markdown",
   "id": "1e9619da",
   "metadata": {},
   "source": [
    "# or "
   ]
  },
  {
   "cell_type": "code",
   "execution_count": 6,
   "id": "6738fa66",
   "metadata": {},
   "outputs": [
    {
     "name": "stdout",
     "output_type": "stream",
     "text": [
      "helo\n"
     ]
    }
   ],
   "source": [
    "'''sdjljsda\n",
    "dsakhkhjds\n",
    "dshkhjdsa\n",
    "dskh'''\n",
    "print(\"helo\")"
   ]
  },
  {
   "cell_type": "markdown",
   "id": "91845344",
   "metadata": {},
   "source": [
    "# variables: are used to hold the data. It acts like a container to store the value"
   ]
  },
  {
   "cell_type": "markdown",
   "id": "8b790080",
   "metadata": {},
   "source": [
    "# how to create/define the variable?"
   ]
  },
  {
   "cell_type": "markdown",
   "id": "e4827e99",
   "metadata": {},
   "source": [
    "name_variable=value"
   ]
  },
  {
   "cell_type": "code",
   "execution_count": 24,
   "id": "d09dd2aa",
   "metadata": {},
   "outputs": [],
   "source": [
    "a=90 # a is variable where 90 is assigned to it"
   ]
  },
  {
   "cell_type": "markdown",
   "id": "3060e422",
   "metadata": {},
   "source": [
    "# id(): it is inbuilt function which tells the address of the variable "
   ]
  },
  {
   "cell_type": "code",
   "execution_count": 12,
   "id": "b65f8dbc",
   "metadata": {},
   "outputs": [
    {
     "data": {
      "text/plain": [
       "2697837630608"
      ]
     },
     "execution_count": 12,
     "metadata": {},
     "output_type": "execute_result"
    }
   ],
   "source": [
    "id(a)"
   ]
  },
  {
   "cell_type": "markdown",
   "id": "6e05f694",
   "metadata": {},
   "source": [
    "# how to access the variable?"
   ]
  },
  {
   "cell_type": "code",
   "execution_count": 13,
   "id": "72163eaf",
   "metadata": {},
   "outputs": [
    {
     "data": {
      "text/plain": [
       "90"
      ]
     },
     "execution_count": 13,
     "metadata": {},
     "output_type": "execute_result"
    }
   ],
   "source": [
    "a"
   ]
  },
  {
   "cell_type": "code",
   "execution_count": 14,
   "id": "2591c540",
   "metadata": {},
   "outputs": [
    {
     "data": {
      "text/plain": [
       "93"
      ]
     },
     "execution_count": 14,
     "metadata": {},
     "output_type": "execute_result"
    }
   ],
   "source": [
    "a+3"
   ]
  },
  {
   "cell_type": "code",
   "execution_count": 15,
   "id": "aada0ca2",
   "metadata": {},
   "outputs": [],
   "source": [
    "b=a+3"
   ]
  },
  {
   "cell_type": "code",
   "execution_count": 16,
   "id": "bc20e890",
   "metadata": {},
   "outputs": [
    {
     "data": {
      "text/plain": [
       "2697837630704"
      ]
     },
     "execution_count": 16,
     "metadata": {},
     "output_type": "execute_result"
    }
   ],
   "source": [
    "id(b)"
   ]
  },
  {
   "cell_type": "code",
   "execution_count": 17,
   "id": "ae0fcba2",
   "metadata": {},
   "outputs": [
    {
     "data": {
      "text/plain": [
       "93"
      ]
     },
     "execution_count": 17,
     "metadata": {},
     "output_type": "execute_result"
    }
   ],
   "source": [
    "b"
   ]
  },
  {
   "cell_type": "code",
   "execution_count": 18,
   "id": "6fdafa68",
   "metadata": {},
   "outputs": [
    {
     "data": {
      "text/plain": [
       "90"
      ]
     },
     "execution_count": 18,
     "metadata": {},
     "output_type": "execute_result"
    }
   ],
   "source": [
    "a"
   ]
  },
  {
   "cell_type": "markdown",
   "id": "1f0e8ee9",
   "metadata": {},
   "source": [
    "# scope of the variable "
   ]
  },
  {
   "cell_type": "code",
   "execution_count": 19,
   "id": "619d4723",
   "metadata": {},
   "outputs": [
    {
     "data": {
      "text/plain": [
       "90"
      ]
     },
     "execution_count": 19,
     "metadata": {},
     "output_type": "execute_result"
    }
   ],
   "source": [
    "a"
   ]
  },
  {
   "cell_type": "code",
   "execution_count": 29,
   "id": "0a78ee47",
   "metadata": {},
   "outputs": [],
   "source": [
    "a=100"
   ]
  },
  {
   "cell_type": "code",
   "execution_count": 27,
   "id": "d5c6c727",
   "metadata": {},
   "outputs": [
    {
     "data": {
      "text/plain": [
       "100"
      ]
     },
     "execution_count": 27,
     "metadata": {},
     "output_type": "execute_result"
    }
   ],
   "source": [
    "a"
   ]
  },
  {
   "cell_type": "markdown",
   "id": "d8d7e95d",
   "metadata": {},
   "source": [
    "# identifiers : are the naming rules for the variables,functions etc"
   ]
  },
  {
   "cell_type": "markdown",
   "id": "2657a712",
   "metadata": {},
   "source": [
    "- begin with alphabet or only one special character i.e underscore _ is allowed\n",
    "- it can have alphabets, digits and only one special character i.e underscore _  is allowed anywhere followed by begining\n",
    "- it should not be a keywords\n",
    "- it could be of any length\n",
    "- it is case sensitive"
   ]
  },
  {
   "cell_type": "markdown",
   "id": "b9726cfc",
   "metadata": {},
   "source": [
    "# rule 1: begin with alphabet or only one special character i.e underscore _ is allowed"
   ]
  },
  {
   "cell_type": "code",
   "execution_count": 30,
   "id": "347747df",
   "metadata": {},
   "outputs": [],
   "source": [
    "balmeet=100"
   ]
  },
  {
   "cell_type": "code",
   "execution_count": 31,
   "id": "43e24d49",
   "metadata": {},
   "outputs": [
    {
     "data": {
      "text/plain": [
       "100"
      ]
     },
     "execution_count": 31,
     "metadata": {},
     "output_type": "execute_result"
    }
   ],
   "source": [
    "balmeet"
   ]
  },
  {
   "cell_type": "code",
   "execution_count": 32,
   "id": "02dc45b0",
   "metadata": {},
   "outputs": [],
   "source": [
    "_balmeet=90"
   ]
  },
  {
   "cell_type": "code",
   "execution_count": 33,
   "id": "a877a8d1",
   "metadata": {},
   "outputs": [
    {
     "ename": "SyntaxError",
     "evalue": "invalid syntax (3096774933.py, line 1)",
     "output_type": "error",
     "traceback": [
      "\u001b[1;36m  Input \u001b[1;32mIn [33]\u001b[1;36m\u001b[0m\n\u001b[1;33m    1balmeet=90\u001b[0m\n\u001b[1;37m     ^\u001b[0m\n\u001b[1;31mSyntaxError\u001b[0m\u001b[1;31m:\u001b[0m invalid syntax\n"
     ]
    }
   ],
   "source": [
    "1balmeet=90"
   ]
  },
  {
   "cell_type": "code",
   "execution_count": 34,
   "id": "fbf8cd15",
   "metadata": {},
   "outputs": [
    {
     "ename": "SyntaxError",
     "evalue": "invalid syntax (124570431.py, line 1)",
     "output_type": "error",
     "traceback": [
      "\u001b[1;36m  Input \u001b[1;32mIn [34]\u001b[1;36m\u001b[0m\n\u001b[1;33m    @balmeet=90\u001b[0m\n\u001b[1;37m            ^\u001b[0m\n\u001b[1;31mSyntaxError\u001b[0m\u001b[1;31m:\u001b[0m invalid syntax\n"
     ]
    }
   ],
   "source": [
    "@balmeet=90"
   ]
  },
  {
   "cell_type": "markdown",
   "id": "02619d75",
   "metadata": {},
   "source": [
    "# rule 2: it can have alphabets, digits and only one special character i.e underscore _ is allowed anywhere followed by begining"
   ]
  },
  {
   "cell_type": "code",
   "execution_count": 35,
   "id": "80913c84",
   "metadata": {},
   "outputs": [],
   "source": [
    "balmeet123=90"
   ]
  },
  {
   "cell_type": "code",
   "execution_count": 48,
   "id": "2f961feb",
   "metadata": {},
   "outputs": [
    {
     "ename": "SyntaxError",
     "evalue": "invalid syntax (1180332304.py, line 1)",
     "output_type": "error",
     "traceback": [
      "\u001b[1;36m  Input \u001b[1;32mIn [48]\u001b[1;36m\u001b[0m\n\u001b[1;33m    balmeet kaur=100\u001b[0m\n\u001b[1;37m            ^\u001b[0m\n\u001b[1;31mSyntaxError\u001b[0m\u001b[1;31m:\u001b[0m invalid syntax\n"
     ]
    }
   ],
   "source": [
    "balmeet kaur=100"
   ]
  },
  {
   "cell_type": "code",
   "execution_count": 37,
   "id": "2ed64438",
   "metadata": {},
   "outputs": [],
   "source": [
    "balmeet_kaur=90"
   ]
  },
  {
   "cell_type": "markdown",
   "id": "691425d8",
   "metadata": {},
   "source": [
    "# rule 3: it could be of any length"
   ]
  },
  {
   "cell_type": "code",
   "execution_count": 40,
   "id": "f6ed028c",
   "metadata": {},
   "outputs": [
    {
     "ename": "TypeError",
     "evalue": "cannot unpack non-iterable int object",
     "output_type": "error",
     "traceback": [
      "\u001b[1;31m---------------------------------------------------------------------------\u001b[0m",
      "\u001b[1;31mTypeError\u001b[0m                                 Traceback (most recent call last)",
      "Input \u001b[1;32mIn [40]\u001b[0m, in \u001b[0;36m<cell line: 1>\u001b[1;34m()\u001b[0m\n\u001b[1;32m----> 1\u001b[0m sahdjhsdgsadgksgdasgdsgadjgasjdgs,jgdjsagdjsdjgsdgsjgdjsagdjsgdjsa\u001b[38;5;241m=\u001b[39m\u001b[38;5;241m90\u001b[39m\n",
      "\u001b[1;31mTypeError\u001b[0m: cannot unpack non-iterable int object"
     ]
    }
   ],
   "source": [
    "sahdjhsdgsadgksgdasgdsgadjgasjdgs,jgdjsagdjsdjgsdgsjgdjsagdjsgdjsa=90"
   ]
  },
  {
   "cell_type": "code",
   "execution_count": 39,
   "id": "401f22a8",
   "metadata": {},
   "outputs": [
    {
     "data": {
      "text/plain": [
       "90"
      ]
     },
     "execution_count": 39,
     "metadata": {},
     "output_type": "execute_result"
    }
   ],
   "source": [
    "sahdjhsdgsadgksgdasgdsgadjgasjdgsjgdjsagdjsdjgsdgsjgdjsagdjsgdjsa"
   ]
  },
  {
   "cell_type": "markdown",
   "id": "f8f49348",
   "metadata": {},
   "source": [
    "## rule 4: it is case sensitive"
   ]
  },
  {
   "cell_type": "code",
   "execution_count": 41,
   "id": "4f1365ed",
   "metadata": {},
   "outputs": [],
   "source": [
    "madrid=90"
   ]
  },
  {
   "cell_type": "code",
   "execution_count": 42,
   "id": "ba2e3183",
   "metadata": {},
   "outputs": [],
   "source": [
    "Madrid=100"
   ]
  },
  {
   "cell_type": "markdown",
   "id": "df0913b2",
   "metadata": {},
   "source": [
    "# rule 5: it should not be a keywords"
   ]
  },
  {
   "cell_type": "markdown",
   "id": "084b0923",
   "metadata": {},
   "source": [
    "## keywords : are the reserved words which has pre defined meaning"
   ]
  },
  {
   "cell_type": "code",
   "execution_count": 43,
   "id": "7ab864a5",
   "metadata": {},
   "outputs": [],
   "source": [
    "import keyword"
   ]
  },
  {
   "cell_type": "code",
   "execution_count": 44,
   "id": "4bd2a581",
   "metadata": {},
   "outputs": [
    {
     "name": "stdout",
     "output_type": "stream",
     "text": [
      "['False', 'None', 'True', '__peg_parser__', 'and', 'as', 'assert', 'async', 'await', 'break', 'class', 'continue', 'def', 'del', 'elif', 'else', 'except', 'finally', 'for', 'from', 'global', 'if', 'import', 'in', 'is', 'lambda', 'nonlocal', 'not', 'or', 'pass', 'raise', 'return', 'try', 'while', 'with', 'yield']\n"
     ]
    }
   ],
   "source": [
    "print(keyword.kwlist)"
   ]
  },
  {
   "cell_type": "code",
   "execution_count": 45,
   "id": "5612ff7e",
   "metadata": {},
   "outputs": [
    {
     "ename": "SyntaxError",
     "evalue": "invalid syntax (2543139966.py, line 1)",
     "output_type": "error",
     "traceback": [
      "\u001b[1;36m  Input \u001b[1;32mIn [45]\u001b[1;36m\u001b[0m\n\u001b[1;33m    pass=90\u001b[0m\n\u001b[1;37m        ^\u001b[0m\n\u001b[1;31mSyntaxError\u001b[0m\u001b[1;31m:\u001b[0m invalid syntax\n"
     ]
    }
   ],
   "source": [
    "pass=90"
   ]
  },
  {
   "cell_type": "code",
   "execution_count": 46,
   "id": "9522eaaa",
   "metadata": {},
   "outputs": [],
   "source": [
    "Pass=90"
   ]
  },
  {
   "cell_type": "code",
   "execution_count": 49,
   "id": "36280f7a",
   "metadata": {},
   "outputs": [],
   "source": [
    "_____=60"
   ]
  },
  {
   "cell_type": "code",
   "execution_count": 50,
   "id": "a504791c",
   "metadata": {},
   "outputs": [
    {
     "data": {
      "text/plain": [
       "60"
      ]
     },
     "execution_count": 50,
     "metadata": {},
     "output_type": "execute_result"
    }
   ],
   "source": [
    "_____"
   ]
  },
  {
   "cell_type": "markdown",
   "id": "c041a1e2",
   "metadata": {},
   "source": [
    "# data types : defines the types of data "
   ]
  },
  {
   "cell_type": "markdown",
   "id": "d7f4697e",
   "metadata": {},
   "source": [
    "- numeric\n",
    "   - int\n",
    "   - float\n",
    "   - complex\n",
    "- bool\n",
    "- sequence \n",
    "   - string\n",
    "   - list\n",
    "   - tuple\n",
    "- dictionary\n",
    "- set\n",
    "    "
   ]
  },
  {
   "cell_type": "markdown",
   "id": "9a314d62",
   "metadata": {},
   "source": [
    "# numeric "
   ]
  },
  {
   "cell_type": "markdown",
   "id": "4e0033c9",
   "metadata": {},
   "source": [
    "# int : integer data/value:\n",
    "\n",
    "- are the positive or negative numbers without decimal "
   ]
  },
  {
   "cell_type": "code",
   "execution_count": 53,
   "id": "04113d12",
   "metadata": {},
   "outputs": [
    {
     "name": "stdout",
     "output_type": "stream",
     "text": [
      "90\n",
      "<class 'int'>\n"
     ]
    }
   ],
   "source": [
    "a=90\n",
    "print(a)\n",
    "print(type(a)) # type is inbuilt function which tells the type of data"
   ]
  },
  {
   "cell_type": "code",
   "execution_count": 54,
   "id": "c180d9a4",
   "metadata": {},
   "outputs": [
    {
     "name": "stdout",
     "output_type": "stream",
     "text": [
      "-90\n",
      "<class 'int'>\n"
     ]
    }
   ],
   "source": [
    "a=-90\n",
    "print(a)\n",
    "print(type(a))"
   ]
  },
  {
   "cell_type": "markdown",
   "id": "3f000ce2",
   "metadata": {},
   "source": [
    "# float : numbers with decimal"
   ]
  },
  {
   "cell_type": "code",
   "execution_count": 55,
   "id": "db0fd6aa",
   "metadata": {},
   "outputs": [
    {
     "name": "stdout",
     "output_type": "stream",
     "text": [
      "34.56788\n",
      "<class 'float'>\n"
     ]
    }
   ],
   "source": [
    "b=34.56788\n",
    "print(b)\n",
    "print(type(b))"
   ]
  },
  {
   "cell_type": "markdown",
   "id": "adc95311",
   "metadata": {},
   "source": [
    "# complex : real+imaginary"
   ]
  },
  {
   "cell_type": "code",
   "execution_count": 56,
   "id": "0e1fab93",
   "metadata": {},
   "outputs": [
    {
     "name": "stdout",
     "output_type": "stream",
     "text": [
      "(6+7j)\n",
      "<class 'complex'>\n"
     ]
    }
   ],
   "source": [
    "a=6+7j\n",
    "print(a)\n",
    "print(type(a))"
   ]
  },
  {
   "cell_type": "markdown",
   "id": "526bfa04",
   "metadata": {},
   "source": [
    "# bool: True or False"
   ]
  },
  {
   "cell_type": "code",
   "execution_count": 57,
   "id": "be52b6ca",
   "metadata": {},
   "outputs": [
    {
     "name": "stdout",
     "output_type": "stream",
     "text": [
      "True\n",
      "<class 'bool'>\n"
     ]
    }
   ],
   "source": [
    "a=True\n",
    "print(a)\n",
    "print(type(a))"
   ]
  },
  {
   "cell_type": "code",
   "execution_count": 58,
   "id": "5eb384e4",
   "metadata": {},
   "outputs": [
    {
     "name": "stdout",
     "output_type": "stream",
     "text": [
      "False\n",
      "<class 'bool'>\n"
     ]
    }
   ],
   "source": [
    "a=False\n",
    "print(a)\n",
    "print(type(a))"
   ]
  },
  {
   "cell_type": "code",
   "execution_count": 59,
   "id": "16c50e08",
   "metadata": {},
   "outputs": [
    {
     "ename": "NameError",
     "evalue": "name 'true' is not defined",
     "output_type": "error",
     "traceback": [
      "\u001b[1;31m---------------------------------------------------------------------------\u001b[0m",
      "\u001b[1;31mNameError\u001b[0m                                 Traceback (most recent call last)",
      "Input \u001b[1;32mIn [59]\u001b[0m, in \u001b[0;36m<cell line: 1>\u001b[1;34m()\u001b[0m\n\u001b[1;32m----> 1\u001b[0m a\u001b[38;5;241m=\u001b[39m\u001b[43mtrue\u001b[49m\n\u001b[0;32m      2\u001b[0m \u001b[38;5;28mprint\u001b[39m(a)\n\u001b[0;32m      3\u001b[0m \u001b[38;5;28mprint\u001b[39m(\u001b[38;5;28mtype\u001b[39m(a))\n",
      "\u001b[1;31mNameError\u001b[0m: name 'true' is not defined"
     ]
    }
   ],
   "source": [
    "a=true\n",
    "print(a)\n",
    "print(type(a))"
   ]
  },
  {
   "cell_type": "markdown",
   "id": "ea77d71e",
   "metadata": {},
   "source": [
    "# sequence "
   ]
  },
  {
   "cell_type": "markdown",
   "id": "5620b71b",
   "metadata": {},
   "source": [
    "## string: Texual data\n",
    "\n",
    "## note : any thing(alphabet,digits or any special character) in quotes  consider as my string"
   ]
  },
  {
   "cell_type": "markdown",
   "id": "f9ead845",
   "metadata": {},
   "source": [
    "## How to create the string \n",
    "- using single quotes\n",
    "- using double quotes\n",
    "- using three triple quotes"
   ]
  },
  {
   "cell_type": "markdown",
   "id": "c50a771f",
   "metadata": {},
   "source": [
    "# using single quotes "
   ]
  },
  {
   "cell_type": "code",
   "execution_count": 60,
   "id": "ab49caf4",
   "metadata": {},
   "outputs": [
    {
     "name": "stdout",
     "output_type": "stream",
     "text": [
      "balmeet\n",
      "<class 'str'>\n"
     ]
    }
   ],
   "source": [
    "s='balmeet'\n",
    "print(s)\n",
    "print(type(s))"
   ]
  },
  {
   "cell_type": "markdown",
   "id": "f238ad07",
   "metadata": {},
   "source": [
    "# using double quotes "
   ]
  },
  {
   "cell_type": "code",
   "execution_count": 61,
   "id": "10812037",
   "metadata": {},
   "outputs": [
    {
     "name": "stdout",
     "output_type": "stream",
     "text": [
      "balmeet\n",
      "<class 'str'>\n"
     ]
    }
   ],
   "source": [
    "s=\"balmeet\"\n",
    "print(s)\n",
    "print(type(s))"
   ]
  },
  {
   "cell_type": "code",
   "execution_count": 63,
   "id": "9e97c839",
   "metadata": {},
   "outputs": [
    {
     "ename": "SyntaxError",
     "evalue": "invalid syntax (2693127846.py, line 1)",
     "output_type": "error",
     "traceback": [
      "\u001b[1;36m  Input \u001b[1;32mIn [63]\u001b[1;36m\u001b[0m\n\u001b[1;33m    s='hi how'r you'\u001b[0m\n\u001b[1;37m              ^\u001b[0m\n\u001b[1;31mSyntaxError\u001b[0m\u001b[1;31m:\u001b[0m invalid syntax\n"
     ]
    }
   ],
   "source": [
    "s='hi how'r you'\n",
    "print(s)\n",
    "print(type(s))"
   ]
  },
  {
   "cell_type": "code",
   "execution_count": 64,
   "id": "5c53cc97",
   "metadata": {},
   "outputs": [
    {
     "name": "stdout",
     "output_type": "stream",
     "text": [
      "hi how'r you\n",
      "<class 'str'>\n"
     ]
    }
   ],
   "source": [
    "s=\"hi how'r you\"\n",
    "print(s)\n",
    "print(type(s))"
   ]
  },
  {
   "cell_type": "code",
   "execution_count": 66,
   "id": "d16878dc",
   "metadata": {},
   "outputs": [
    {
     "name": "stdout",
     "output_type": "stream",
     "text": [
      "hi how\"r you\n",
      "<class 'str'>\n"
     ]
    }
   ],
   "source": [
    "s='hi how\"r you'\n",
    "print(s)\n",
    "print(type(s))"
   ]
  },
  {
   "cell_type": "markdown",
   "id": "b593f413",
   "metadata": {},
   "source": [
    "# using triple quotes : multiline string"
   ]
  },
  {
   "cell_type": "code",
   "execution_count": 67,
   "id": "fcba7b2a",
   "metadata": {},
   "outputs": [
    {
     "name": "stdout",
     "output_type": "stream",
     "text": [
      "fdffsd\n",
      "dfdd\n",
      "dfsdsf\n",
      "<class 'str'>\n"
     ]
    }
   ],
   "source": [
    "s='''fdffsd\n",
    "dfdd\n",
    "dfsdsf'''\n",
    "print(s)\n",
    "print(type(s))"
   ]
  },
  {
   "cell_type": "code",
   "execution_count": 68,
   "id": "49adb2c0",
   "metadata": {},
   "outputs": [
    {
     "name": "stdout",
     "output_type": "stream",
     "text": [
      "<class 'str'>\n"
     ]
    }
   ],
   "source": [
    "s='balmeet@123kaur'\n",
    "print(type(s))"
   ]
  },
  {
   "cell_type": "code",
   "execution_count": 70,
   "id": "53f50a26",
   "metadata": {},
   "outputs": [
    {
     "name": "stdout",
     "output_type": "stream",
     "text": [
      "<class 'int'>\n"
     ]
    }
   ],
   "source": [
    "s=123\n",
    "print(type(s))"
   ]
  },
  {
   "cell_type": "markdown",
   "id": "e7c53e43",
   "metadata": {},
   "source": [
    "# list: it is the collection of multiple elements"
   ]
  },
  {
   "cell_type": "markdown",
   "id": "c0471e9e",
   "metadata": {},
   "source": [
    "# how to create the list: using []"
   ]
  },
  {
   "cell_type": "code",
   "execution_count": 71,
   "id": "54c495f9",
   "metadata": {},
   "outputs": [
    {
     "name": "stdout",
     "output_type": "stream",
     "text": [
      "['101', 'jai', 'ds', 'saket delhi', 67.8]\n",
      "<class 'list'>\n"
     ]
    }
   ],
   "source": [
    "student=[\"101\",'jai','ds','saket delhi',67.8] # hetrogenous\n",
    "print(student)\n",
    "print(type(student))"
   ]
  },
  {
   "cell_type": "code",
   "execution_count": 73,
   "id": "02085446",
   "metadata": {},
   "outputs": [
    {
     "name": "stdout",
     "output_type": "stream",
     "text": [
      "[23, 45, 67, 89, 90]\n",
      "<class 'list'>\n"
     ]
    }
   ],
   "source": [
    "marks=[23,45,67,89,90] # homegenous\n",
    "print(marks)\n",
    "print(type(marks))"
   ]
  },
  {
   "cell_type": "markdown",
   "id": "c002c3dc",
   "metadata": {},
   "source": [
    "# tuple : same as list\n",
    "\n",
    "using ()"
   ]
  },
  {
   "cell_type": "code",
   "execution_count": 74,
   "id": "35e60f28",
   "metadata": {},
   "outputs": [
    {
     "name": "stdout",
     "output_type": "stream",
     "text": [
      "('101', 'jai', 'ds', 'saket delhi', 67.8)\n",
      "<class 'tuple'>\n"
     ]
    }
   ],
   "source": [
    "student=(\"101\",'jai','ds','saket delhi',67.8) # hetrogenous\n",
    "print(student)\n",
    "print(type(student))"
   ]
  },
  {
   "cell_type": "markdown",
   "id": "0de247ad",
   "metadata": {},
   "source": [
    "# dictionary and set : skip "
   ]
  },
  {
   "cell_type": "markdown",
   "id": "ba223868",
   "metadata": {},
   "source": [
    "# type casting : type conversion"
   ]
  },
  {
   "cell_type": "markdown",
   "id": "358781a3",
   "metadata": {},
   "source": [
    "# int to float"
   ]
  },
  {
   "cell_type": "code",
   "execution_count": 76,
   "id": "5cddb1d9",
   "metadata": {},
   "outputs": [
    {
     "name": "stdout",
     "output_type": "stream",
     "text": [
      "90\n",
      "<class 'int'>\n",
      "90.0\n",
      "<class 'float'>\n"
     ]
    }
   ],
   "source": [
    "a=90\n",
    "print(a)\n",
    "print(type(a))\n",
    "b=float(a)\n",
    "print(b)\n",
    "print(type(b))"
   ]
  },
  {
   "cell_type": "markdown",
   "id": "6079ee99",
   "metadata": {},
   "source": [
    "# float to int "
   ]
  },
  {
   "cell_type": "code",
   "execution_count": 77,
   "id": "2e883497",
   "metadata": {},
   "outputs": [
    {
     "name": "stdout",
     "output_type": "stream",
     "text": [
      "90.983837737\n",
      "<class 'float'>\n",
      "90\n",
      "<class 'int'>\n"
     ]
    }
   ],
   "source": [
    "a=90.983837737\n",
    "print(a)\n",
    "print(type(a))\n",
    "b=int(a)\n",
    "print(b)\n",
    "print(type(b))"
   ]
  },
  {
   "cell_type": "markdown",
   "id": "7565294c",
   "metadata": {},
   "source": [
    "# int to str"
   ]
  },
  {
   "cell_type": "code",
   "execution_count": 79,
   "id": "52bb9538",
   "metadata": {},
   "outputs": [
    {
     "name": "stdout",
     "output_type": "stream",
     "text": [
      "10\n",
      "<class 'int'>\n",
      "<class 'str'>\n"
     ]
    },
    {
     "data": {
      "text/plain": [
       "'10'"
      ]
     },
     "execution_count": 79,
     "metadata": {},
     "output_type": "execute_result"
    }
   ],
   "source": [
    "a=10\n",
    "print(a)\n",
    "print(type(a))\n",
    "b=str(a)\n",
    "print(type(b))\n",
    "b"
   ]
  },
  {
   "cell_type": "markdown",
   "id": "ef33a0d1",
   "metadata": {},
   "source": [
    "# float to str"
   ]
  },
  {
   "cell_type": "code",
   "execution_count": 80,
   "id": "edd00172",
   "metadata": {},
   "outputs": [
    {
     "name": "stdout",
     "output_type": "stream",
     "text": [
      "90.983837737\n",
      "<class 'float'>\n",
      "<class 'str'>\n"
     ]
    },
    {
     "data": {
      "text/plain": [
       "'90.983837737'"
      ]
     },
     "execution_count": 80,
     "metadata": {},
     "output_type": "execute_result"
    }
   ],
   "source": [
    "a=90.983837737\n",
    "print(a)\n",
    "print(type(a))\n",
    "b=str(a)\n",
    "print(type(b))\n",
    "b"
   ]
  },
  {
   "cell_type": "markdown",
   "id": "f36bfae3",
   "metadata": {},
   "source": [
    "# str to float"
   ]
  },
  {
   "cell_type": "code",
   "execution_count": 81,
   "id": "ab8000a9",
   "metadata": {},
   "outputs": [
    {
     "name": "stdout",
     "output_type": "stream",
     "text": [
      "hello\n",
      "<class 'str'>\n"
     ]
    },
    {
     "ename": "ValueError",
     "evalue": "could not convert string to float: 'hello'",
     "output_type": "error",
     "traceback": [
      "\u001b[1;31m---------------------------------------------------------------------------\u001b[0m",
      "\u001b[1;31mValueError\u001b[0m                                Traceback (most recent call last)",
      "Input \u001b[1;32mIn [81]\u001b[0m, in \u001b[0;36m<cell line: 4>\u001b[1;34m()\u001b[0m\n\u001b[0;32m      2\u001b[0m \u001b[38;5;28mprint\u001b[39m(a)\n\u001b[0;32m      3\u001b[0m \u001b[38;5;28mprint\u001b[39m(\u001b[38;5;28mtype\u001b[39m(a))\n\u001b[1;32m----> 4\u001b[0m b\u001b[38;5;241m=\u001b[39m\u001b[38;5;28;43mfloat\u001b[39;49m\u001b[43m(\u001b[49m\u001b[43ma\u001b[49m\u001b[43m)\u001b[49m\n\u001b[0;32m      5\u001b[0m \u001b[38;5;28mprint\u001b[39m(b)\n\u001b[0;32m      6\u001b[0m \u001b[38;5;28mprint\u001b[39m(\u001b[38;5;28mtype\u001b[39m(b))\n",
      "\u001b[1;31mValueError\u001b[0m: could not convert string to float: 'hello'"
     ]
    }
   ],
   "source": [
    "a=\"hello\"\n",
    "print(a)\n",
    "print(type(a))\n",
    "b=float(a)\n",
    "print(b)\n",
    "print(type(b))"
   ]
  },
  {
   "cell_type": "code",
   "execution_count": 82,
   "id": "8d1082ab",
   "metadata": {},
   "outputs": [
    {
     "name": "stdout",
     "output_type": "stream",
     "text": [
      "98.655\n",
      "<class 'str'>\n",
      "98.655\n",
      "<class 'float'>\n"
     ]
    }
   ],
   "source": [
    "a=\"98.655\"\n",
    "print(a)\n",
    "print(type(a))\n",
    "b=float(a)\n",
    "print(b)\n",
    "print(type(b))"
   ]
  },
  {
   "cell_type": "code",
   "execution_count": 83,
   "id": "3b9caf46",
   "metadata": {},
   "outputs": [
    {
     "name": "stdout",
     "output_type": "stream",
     "text": [
      "hello\n",
      "<class 'str'>\n"
     ]
    },
    {
     "ename": "ValueError",
     "evalue": "invalid literal for int() with base 10: 'hello'",
     "output_type": "error",
     "traceback": [
      "\u001b[1;31m---------------------------------------------------------------------------\u001b[0m",
      "\u001b[1;31mValueError\u001b[0m                                Traceback (most recent call last)",
      "Input \u001b[1;32mIn [83]\u001b[0m, in \u001b[0;36m<cell line: 4>\u001b[1;34m()\u001b[0m\n\u001b[0;32m      2\u001b[0m \u001b[38;5;28mprint\u001b[39m(a)\n\u001b[0;32m      3\u001b[0m \u001b[38;5;28mprint\u001b[39m(\u001b[38;5;28mtype\u001b[39m(a))\n\u001b[1;32m----> 4\u001b[0m b\u001b[38;5;241m=\u001b[39m\u001b[38;5;28;43mint\u001b[39;49m\u001b[43m(\u001b[49m\u001b[43ma\u001b[49m\u001b[43m)\u001b[49m\n\u001b[0;32m      5\u001b[0m \u001b[38;5;28mprint\u001b[39m(b)\n\u001b[0;32m      6\u001b[0m \u001b[38;5;28mprint\u001b[39m(\u001b[38;5;28mtype\u001b[39m(b))\n",
      "\u001b[1;31mValueError\u001b[0m: invalid literal for int() with base 10: 'hello'"
     ]
    }
   ],
   "source": [
    "a=\"hello\"\n",
    "print(a)\n",
    "print(type(a))\n",
    "b=int(a)\n",
    "print(b)\n",
    "print(type(b))"
   ]
  },
  {
   "cell_type": "markdown",
   "id": "4b6d2c1f",
   "metadata": {},
   "source": [
    "# str to int"
   ]
  },
  {
   "cell_type": "code",
   "execution_count": 87,
   "id": "b680c0d9",
   "metadata": {},
   "outputs": [
    {
     "name": "stdout",
     "output_type": "stream",
     "text": [
      "90.34566\n",
      "<class 'str'>\n",
      "90\n",
      "<class 'int'>\n"
     ]
    }
   ],
   "source": [
    "a=\"90.34566\" # it requires double conversion\n",
    "print(a)\n",
    "print(type(a))\n",
    "b=float(a)\n",
    "x=int(b)\n",
    "print(x)\n",
    "print(type(x))"
   ]
  },
  {
   "cell_type": "markdown",
   "id": "6d0312e2",
   "metadata": {},
   "source": [
    "# int to bool\n",
    "\n",
    "\n",
    "note : any positive or negative integer is treated as True \n",
    "and 0 is treated as False"
   ]
  },
  {
   "cell_type": "code",
   "execution_count": 88,
   "id": "857d9b8d",
   "metadata": {},
   "outputs": [
    {
     "name": "stdout",
     "output_type": "stream",
     "text": [
      "80\n",
      "<class 'int'>\n",
      "True\n",
      "<class 'bool'>\n"
     ]
    }
   ],
   "source": [
    "a=80\n",
    "print(a)\n",
    "print(type(a))\n",
    "b=bool(a)\n",
    "print(b)\n",
    "print(type(b))"
   ]
  },
  {
   "cell_type": "code",
   "execution_count": 89,
   "id": "fe28caa7",
   "metadata": {},
   "outputs": [
    {
     "name": "stdout",
     "output_type": "stream",
     "text": [
      "-80\n",
      "<class 'int'>\n",
      "True\n",
      "<class 'bool'>\n"
     ]
    }
   ],
   "source": [
    "a=-80\n",
    "print(a)\n",
    "print(type(a))\n",
    "b=bool(a)\n",
    "print(b)\n",
    "print(type(b))"
   ]
  },
  {
   "cell_type": "code",
   "execution_count": 90,
   "id": "c9bfa707",
   "metadata": {},
   "outputs": [
    {
     "name": "stdout",
     "output_type": "stream",
     "text": [
      "0\n",
      "<class 'int'>\n",
      "False\n",
      "<class 'bool'>\n"
     ]
    }
   ],
   "source": [
    "a=0\n",
    "print(a)\n",
    "print(type(a))\n",
    "b=bool(a)\n",
    "print(b)\n",
    "print(type(b))"
   ]
  },
  {
   "cell_type": "markdown",
   "id": "a8d236b1",
   "metadata": {},
   "source": [
    "# bool to int"
   ]
  },
  {
   "cell_type": "code",
   "execution_count": 91,
   "id": "44860b4f",
   "metadata": {},
   "outputs": [
    {
     "name": "stdout",
     "output_type": "stream",
     "text": [
      "True\n",
      "<class 'bool'>\n",
      "1\n",
      "<class 'int'>\n"
     ]
    }
   ],
   "source": [
    "a=True\n",
    "print(a)\n",
    "print(type(a))\n",
    "b=int(a)\n",
    "print(b)\n",
    "print(type(b))"
   ]
  },
  {
   "cell_type": "code",
   "execution_count": 92,
   "id": "08b87f16",
   "metadata": {},
   "outputs": [
    {
     "name": "stdout",
     "output_type": "stream",
     "text": [
      "False\n",
      "<class 'bool'>\n",
      "0\n",
      "<class 'int'>\n"
     ]
    }
   ],
   "source": [
    "a=False\n",
    "print(a)\n",
    "print(type(a))\n",
    "b=int(a)\n",
    "print(b)\n",
    "print(type(b))"
   ]
  },
  {
   "cell_type": "markdown",
   "id": "1f82bee5",
   "metadata": {},
   "source": [
    "# bool to str"
   ]
  },
  {
   "cell_type": "code",
   "execution_count": 94,
   "id": "4e25b609",
   "metadata": {},
   "outputs": [
    {
     "name": "stdout",
     "output_type": "stream",
     "text": [
      "True\n",
      "<class 'bool'>\n",
      "<class 'str'>\n"
     ]
    },
    {
     "data": {
      "text/plain": [
       "'True'"
      ]
     },
     "execution_count": 94,
     "metadata": {},
     "output_type": "execute_result"
    }
   ],
   "source": [
    "a=True\n",
    "print(a)\n",
    "print(type(a))\n",
    "b=str(a)\n",
    "print(type(b))\n",
    "b"
   ]
  },
  {
   "cell_type": "code",
   "execution_count": 95,
   "id": "41eca7b5",
   "metadata": {},
   "outputs": [
    {
     "name": "stdout",
     "output_type": "stream",
     "text": [
      "False\n",
      "<class 'bool'>\n",
      "<class 'str'>\n"
     ]
    },
    {
     "data": {
      "text/plain": [
       "'False'"
      ]
     },
     "execution_count": 95,
     "metadata": {},
     "output_type": "execute_result"
    }
   ],
   "source": [
    "a=False\n",
    "print(a)\n",
    "print(type(a))\n",
    "b=str(a)\n",
    "print(type(b))\n",
    "b"
   ]
  },
  {
   "cell_type": "markdown",
   "id": "0c1a14fc",
   "metadata": {},
   "source": [
    "# str to bool"
   ]
  },
  {
   "cell_type": "code",
   "execution_count": 96,
   "id": "990e9013",
   "metadata": {},
   "outputs": [
    {
     "name": "stdout",
     "output_type": "stream",
     "text": [
      "helo\n",
      "<class 'str'>\n",
      "<class 'bool'>\n"
     ]
    },
    {
     "data": {
      "text/plain": [
       "True"
      ]
     },
     "execution_count": 96,
     "metadata": {},
     "output_type": "execute_result"
    }
   ],
   "source": [
    "a='helo'\n",
    "print(a)\n",
    "print(type(a))\n",
    "b=bool(a)\n",
    "print(type(b))\n",
    "b"
   ]
  },
  {
   "cell_type": "markdown",
   "id": "5e05bf8b",
   "metadata": {},
   "source": [
    "# note : any non empty string is treated as True and empty string is treated as False"
   ]
  },
  {
   "cell_type": "code",
   "execution_count": 100,
   "id": "cb1a2e1f",
   "metadata": {},
   "outputs": [
    {
     "name": "stdout",
     "output_type": "stream",
     "text": [
      "\n",
      "<class 'str'>\n",
      "<class 'bool'>\n"
     ]
    },
    {
     "data": {
      "text/plain": [
       "False"
      ]
     },
     "execution_count": 100,
     "metadata": {},
     "output_type": "execute_result"
    }
   ],
   "source": [
    "a=''\n",
    "print(a)\n",
    "print(type(a))\n",
    "b=bool(a)\n",
    "print(type(b))\n",
    "b"
   ]
  },
  {
   "cell_type": "markdown",
   "id": "242e54f3",
   "metadata": {},
   "source": [
    "# str to list"
   ]
  },
  {
   "cell_type": "code",
   "execution_count": 102,
   "id": "e46f7d1a",
   "metadata": {},
   "outputs": [
    {
     "name": "stdout",
     "output_type": "stream",
     "text": [
      "madrid solutions\n",
      "<class 'str'>\n",
      "<class 'list'>\n"
     ]
    },
    {
     "data": {
      "text/plain": [
       "['m',\n",
       " 'a',\n",
       " 'd',\n",
       " 'r',\n",
       " 'i',\n",
       " 'd',\n",
       " ' ',\n",
       " 's',\n",
       " 'o',\n",
       " 'l',\n",
       " 'u',\n",
       " 't',\n",
       " 'i',\n",
       " 'o',\n",
       " 'n',\n",
       " 's']"
      ]
     },
     "execution_count": 102,
     "metadata": {},
     "output_type": "execute_result"
    }
   ],
   "source": [
    "a=\"madrid solutions\"\n",
    "print(a)\n",
    "print(type(a))\n",
    "b=list(a)\n",
    "print(type(b))\n",
    "b"
   ]
  },
  {
   "cell_type": "markdown",
   "id": "eebfa28e",
   "metadata": {},
   "source": [
    "# LIST TO STR"
   ]
  },
  {
   "cell_type": "code",
   "execution_count": 103,
   "id": "15e85413",
   "metadata": {},
   "outputs": [
    {
     "name": "stdout",
     "output_type": "stream",
     "text": [
      "['BOY', 23, 56.8]\n",
      "<class 'list'>\n",
      "<class 'str'>\n"
     ]
    },
    {
     "data": {
      "text/plain": [
       "\"['BOY', 23, 56.8]\""
      ]
     },
     "execution_count": 103,
     "metadata": {},
     "output_type": "execute_result"
    }
   ],
   "source": [
    "a=[\"BOY\",23,56.8]\n",
    "print(a)\n",
    "print(type(a))\n",
    "b=str(a)\n",
    "print(type(b))\n",
    "b"
   ]
  },
  {
   "cell_type": "code",
   "execution_count": 104,
   "id": "aac4b1bc",
   "metadata": {},
   "outputs": [
    {
     "data": {
      "text/plain": [
       "17"
      ]
     },
     "execution_count": 104,
     "metadata": {},
     "output_type": "execute_result"
    }
   ],
   "source": [
    "len(b)"
   ]
  },
  {
   "cell_type": "markdown",
   "id": "9dbc4ad5",
   "metadata": {},
   "source": [
    "# list to tuple "
   ]
  },
  {
   "cell_type": "code",
   "execution_count": 105,
   "id": "a11c949c",
   "metadata": {},
   "outputs": [
    {
     "name": "stdout",
     "output_type": "stream",
     "text": [
      "['BOY', 23, 56.8]\n",
      "<class 'list'>\n",
      "<class 'tuple'>\n"
     ]
    },
    {
     "data": {
      "text/plain": [
       "('BOY', 23, 56.8)"
      ]
     },
     "execution_count": 105,
     "metadata": {},
     "output_type": "execute_result"
    }
   ],
   "source": [
    "a=[\"BOY\",23,56.8]\n",
    "print(a)\n",
    "print(type(a))\n",
    "b=tuple(a)\n",
    "print(type(b))\n",
    "b"
   ]
  },
  {
   "cell_type": "code",
   "execution_count": 106,
   "id": "53df5a81",
   "metadata": {},
   "outputs": [
    {
     "name": "stdout",
     "output_type": "stream",
     "text": [
      "('BOY', 23, 56.8)\n",
      "<class 'tuple'>\n",
      "<class 'list'>\n"
     ]
    },
    {
     "data": {
      "text/plain": [
       "['BOY', 23, 56.8]"
      ]
     },
     "execution_count": 106,
     "metadata": {},
     "output_type": "execute_result"
    }
   ],
   "source": [
    "a=(\"BOY\",23,56.8)\n",
    "print(a)\n",
    "print(type(a))\n",
    "b=list(a)\n",
    "print(type(b))\n",
    "b"
   ]
  },
  {
   "cell_type": "markdown",
   "id": "5ba9b246",
   "metadata": {},
   "source": [
    "# dict, set "
   ]
  },
  {
   "cell_type": "markdown",
   "id": "a7d4a422",
   "metadata": {},
   "source": [
    "# input and print function"
   ]
  },
  {
   "cell_type": "markdown",
   "id": "f6a26e15",
   "metadata": {},
   "source": [
    "# input(): it is inbuilt function which takes the input from user"
   ]
  },
  {
   "cell_type": "code",
   "execution_count": 114,
   "id": "cd03c5a7",
   "metadata": {},
   "outputs": [
    {
     "name": "stdout",
     "output_type": "stream",
     "text": [
      "enter the value 67\n"
     ]
    }
   ],
   "source": [
    "a=input(\"enter the value \")"
   ]
  },
  {
   "cell_type": "code",
   "execution_count": 115,
   "id": "a985fc3b",
   "metadata": {},
   "outputs": [
    {
     "data": {
      "text/plain": [
       "'67'"
      ]
     },
     "execution_count": 115,
     "metadata": {},
     "output_type": "execute_result"
    }
   ],
   "source": [
    "a\n"
   ]
  },
  {
   "cell_type": "markdown",
   "id": "238805ca",
   "metadata": {},
   "source": [
    "note : input always interprets the input in string "
   ]
  },
  {
   "cell_type": "markdown",
   "id": "f3b1da31",
   "metadata": {},
   "source": [
    "# print() : It is inbuilt function which is responsible to display the output"
   ]
  },
  {
   "cell_type": "code",
   "execution_count": 116,
   "id": "5a89307d",
   "metadata": {},
   "outputs": [
    {
     "name": "stdout",
     "output_type": "stream",
     "text": [
      "45\n"
     ]
    }
   ],
   "source": [
    "print(45)"
   ]
  },
  {
   "cell_type": "code",
   "execution_count": 117,
   "id": "ea69b041",
   "metadata": {},
   "outputs": [
    {
     "name": "stdout",
     "output_type": "stream",
     "text": [
      "34 True balmeet 78.9\n"
     ]
    }
   ],
   "source": [
    "print(34,True,\"balmeet\",78.9)"
   ]
  },
  {
   "cell_type": "code",
   "execution_count": 118,
   "id": "8ec0df48",
   "metadata": {},
   "outputs": [],
   "source": [
    "a=90"
   ]
  },
  {
   "cell_type": "code",
   "execution_count": 120,
   "id": "dda9e79c",
   "metadata": {},
   "outputs": [
    {
     "name": "stdout",
     "output_type": "stream",
     "text": [
      "a\n"
     ]
    }
   ],
   "source": [
    "print(\"a\")"
   ]
  },
  {
   "cell_type": "code",
   "execution_count": 121,
   "id": "6214e98c",
   "metadata": {},
   "outputs": [
    {
     "name": "stdout",
     "output_type": "stream",
     "text": [
      "enter the name balmeet\n",
      "hi balmeet how r u ?\n"
     ]
    }
   ],
   "source": [
    "name=input(\"enter the name \")\n",
    "print(\"hi\",name,\"how r u ?\")"
   ]
  },
  {
   "cell_type": "code",
   "execution_count": 122,
   "id": "42be6376",
   "metadata": {},
   "outputs": [],
   "source": [
    "# sep"
   ]
  },
  {
   "cell_type": "code",
   "execution_count": 123,
   "id": "1238068d",
   "metadata": {},
   "outputs": [
    {
     "name": "stdout",
     "output_type": "stream",
     "text": [
      "hi balmeet how r u? 78.9 True helo\n"
     ]
    }
   ],
   "source": [
    "print(\"hi\",name,\"how r u?\",78.9,True,\"helo\")"
   ]
  },
  {
   "cell_type": "code",
   "execution_count": 124,
   "id": "a165f16d",
   "metadata": {},
   "outputs": [
    {
     "name": "stdout",
     "output_type": "stream",
     "text": [
      "hi-balmeet-how r u?-78.9-True-helo\n"
     ]
    }
   ],
   "source": [
    "print(\"hi\",name,\"how r u?\",78.9,True,\"helo\",sep='-')"
   ]
  },
  {
   "cell_type": "code",
   "execution_count": 125,
   "id": "97a04b10",
   "metadata": {},
   "outputs": [],
   "source": [
    "# end"
   ]
  },
  {
   "cell_type": "code",
   "execution_count": 128,
   "id": "19b8da84",
   "metadata": {},
   "outputs": [
    {
     "name": "stdout",
     "output_type": "stream",
     "text": [
      "hi how r u----------------------I love pythonbalmeethope u r doing good we are learning data science\n"
     ]
    }
   ],
   "source": [
    "print(\"hi\",\"how r u\",end=\"----------------------\")\n",
    "print(\"I love python\",end=\"balmeet\")\n",
    "print(\"hope u r doing good\",\"we are learning data science\")"
   ]
  },
  {
   "cell_type": "markdown",
   "id": "0f5467ef",
   "metadata": {},
   "source": [
    "# operators :\n",
    "\n",
    "- Arithemetic\n",
    "- relational\n",
    "- logical\n",
    "- bitwise\n",
    "- shorthand\n",
    "- special \n",
    "   - membership\n",
    "   - identity\n"
   ]
  },
  {
   "cell_type": "markdown",
   "id": "edb79cf9",
   "metadata": {},
   "source": [
    "# Arithemetic"
   ]
  },
  {
   "cell_type": "code",
   "execution_count": 134,
   "id": "87081e40",
   "metadata": {},
   "outputs": [
    {
     "name": "stdout",
     "output_type": "stream",
     "text": [
      "enter the first  number 5\n",
      "enter the second  number 2\n",
      "the sum of  5 and 2 is  7\n",
      "the sub of  5 and 2 is  3\n",
      "the div of  5 and 2 is  2.5\n",
      "the floor div of  5 and 2 is  2\n",
      "the modulus of  5 and 2 is  1\n",
      "the exponent of  5 and 2 is  25\n"
     ]
    }
   ],
   "source": [
    "num1=int(input(\"enter the first  number \"))\n",
    "num2=int(input(\"enter the second  number \"))\n",
    "\n",
    "print(\"the sum of \",num1,\"and\",num2,\"is \",num1+num2)\n",
    "print(\"the sub of \",num1,\"and\",num2,\"is \",num1-num2)\n",
    "print(\"the div of \",num1,\"and\",num2,\"is \",num1/num2)\n",
    "print(\"the floor div of \",num1,\"and\",num2,\"is \",num1//num2)\n",
    "print(\"the modulus of \",num1,\"and\",num2,\"is \",num1%num2)\n",
    "print(\"the exponent of \",num1,\"and\",num2,\"is \",num1**num2)"
   ]
  },
  {
   "cell_type": "markdown",
   "id": "7bee0bae",
   "metadata": {},
   "source": [
    "# relational operator"
   ]
  },
  {
   "cell_type": "code",
   "execution_count": 135,
   "id": "dd0749e2",
   "metadata": {},
   "outputs": [
    {
     "name": "stdout",
     "output_type": "stream",
     "text": [
      "enter the first  number 56\n",
      "enter the second  number 70\n",
      "the result of ==  56 and 70 False\n",
      "the result of !-  56 and 70 True\n",
      "the result of <  56 and 70 True\n",
      "the result of <=  56 and 70 True\n",
      "the result of >  56 and 70 False\n",
      "the result of >=  56 and 70 False\n"
     ]
    }
   ],
   "source": [
    "num1=int(input(\"enter the first  number \"))\n",
    "num2=int(input(\"enter the second  number \"))\n",
    "print(\"the result of == \",num1,\"and\",num2,num1==num2)\n",
    "print(\"the result of !- \",num1,\"and\",num2,num1!=num2)\n",
    "print(\"the result of < \",num1,\"and\",num2,num1<num2)\n",
    "print(\"the result of <= \",num1,\"and\",num2,num1<=num2)\n",
    "print(\"the result of > \",num1,\"and\",num2,num1>num2)\n",
    "print(\"the result of >= \",num1,\"and\",num2,num1>=num2)"
   ]
  },
  {
   "cell_type": "markdown",
   "id": "782b8c59",
   "metadata": {},
   "source": [
    "# logical\n",
    "- or\n",
    "- and\n",
    "- not"
   ]
  },
  {
   "cell_type": "code",
   "execution_count": 136,
   "id": "d62fb6f3",
   "metadata": {},
   "outputs": [
    {
     "name": "stdout",
     "output_type": "stream",
     "text": [
      "True or True :  True\n",
      "True or False :  True\n",
      "False or True :  True\n",
      "False or False :  False\n"
     ]
    }
   ],
   "source": [
    "print(\"True or True : \",True or True)\n",
    "print(\"True or False : \",True or False)\n",
    "print(\"False or True : \",False or True)\n",
    "print(\"False or False : \",False or False)"
   ]
  },
  {
   "cell_type": "code",
   "execution_count": 137,
   "id": "4eeac4ed",
   "metadata": {},
   "outputs": [
    {
     "name": "stdout",
     "output_type": "stream",
     "text": [
      "True and True :  True\n",
      "True and False :  False\n",
      "False and True :  False\n",
      "False and False :  False\n"
     ]
    }
   ],
   "source": [
    "print(\"True and True : \",True and True)\n",
    "print(\"True and False : \",True and False)\n",
    "print(\"False and True : \",False and True)\n",
    "print(\"False and False : \",False and False)"
   ]
  },
  {
   "cell_type": "code",
   "execution_count": 140,
   "id": "5305e367",
   "metadata": {},
   "outputs": [
    {
     "data": {
      "text/plain": [
       "True"
      ]
     },
     "execution_count": 140,
     "metadata": {},
     "output_type": "execute_result"
    }
   ],
   "source": [
    "not(False)"
   ]
  },
  {
   "cell_type": "code",
   "execution_count": 142,
   "id": "fbcbab6e",
   "metadata": {},
   "outputs": [
    {
     "data": {
      "text/plain": [
       "89"
      ]
     },
     "execution_count": 142,
     "metadata": {},
     "output_type": "execute_result"
    }
   ],
   "source": [
    "89 or 67"
   ]
  },
  {
   "cell_type": "code",
   "execution_count": 143,
   "id": "8eb42851",
   "metadata": {},
   "outputs": [
    {
     "data": {
      "text/plain": [
       "90"
      ]
     },
     "execution_count": 143,
     "metadata": {},
     "output_type": "execute_result"
    }
   ],
   "source": [
    "0 or 90"
   ]
  },
  {
   "cell_type": "code",
   "execution_count": 144,
   "id": "50fd5287",
   "metadata": {},
   "outputs": [
    {
     "data": {
      "text/plain": [
       "-9"
      ]
     },
     "execution_count": 144,
     "metadata": {},
     "output_type": "execute_result"
    }
   ],
   "source": [
    "-9 or 56"
   ]
  },
  {
   "cell_type": "code",
   "execution_count": 145,
   "id": "673ab7dd",
   "metadata": {},
   "outputs": [
    {
     "data": {
      "text/plain": [
       "0"
      ]
     },
     "execution_count": 145,
     "metadata": {},
     "output_type": "execute_result"
    }
   ],
   "source": [
    "0 and 56"
   ]
  },
  {
   "cell_type": "code",
   "execution_count": 146,
   "id": "93210fdb",
   "metadata": {},
   "outputs": [
    {
     "data": {
      "text/plain": [
       "78"
      ]
     },
     "execution_count": 146,
     "metadata": {},
     "output_type": "execute_result"
    }
   ],
   "source": [
    "90 and 78"
   ]
  },
  {
   "cell_type": "code",
   "execution_count": 148,
   "id": "f6fa9615",
   "metadata": {},
   "outputs": [
    {
     "data": {
      "text/plain": [
       "0"
      ]
     },
     "execution_count": 148,
     "metadata": {},
     "output_type": "execute_result"
    }
   ],
   "source": [
    "0 and -56"
   ]
  },
  {
   "cell_type": "code",
   "execution_count": 149,
   "id": "12bf1b10",
   "metadata": {},
   "outputs": [
    {
     "data": {
      "text/plain": [
       "False"
      ]
     },
     "execution_count": 149,
     "metadata": {},
     "output_type": "execute_result"
    }
   ],
   "source": [
    "not(78)"
   ]
  },
  {
   "cell_type": "code",
   "execution_count": 150,
   "id": "c447d5f8",
   "metadata": {},
   "outputs": [
    {
     "data": {
      "text/plain": [
       "False"
      ]
     },
     "execution_count": 150,
     "metadata": {},
     "output_type": "execute_result"
    }
   ],
   "source": [
    "not(-8)"
   ]
  },
  {
   "cell_type": "code",
   "execution_count": 151,
   "id": "82e62859",
   "metadata": {},
   "outputs": [
    {
     "data": {
      "text/plain": [
       "True"
      ]
     },
     "execution_count": 151,
     "metadata": {},
     "output_type": "execute_result"
    }
   ],
   "source": [
    "not(0)"
   ]
  },
  {
   "cell_type": "markdown",
   "id": "933bd09b",
   "metadata": {},
   "source": [
    "# note : any non empty string is treated as True and empty string is considerd as False"
   ]
  },
  {
   "cell_type": "code",
   "execution_count": 154,
   "id": "f7627a75",
   "metadata": {},
   "outputs": [
    {
     "data": {
      "text/plain": [
       "'solutions'"
      ]
     },
     "execution_count": 154,
     "metadata": {},
     "output_type": "execute_result"
    }
   ],
   "source": [
    "\"madrid\" and \"solutions\""
   ]
  },
  {
   "cell_type": "code",
   "execution_count": 155,
   "id": "1ee074fc",
   "metadata": {},
   "outputs": [
    {
     "data": {
      "text/plain": [
       "' '"
      ]
     },
     "execution_count": 155,
     "metadata": {},
     "output_type": "execute_result"
    }
   ],
   "source": [
    "\"madrid\" and \" \""
   ]
  },
  {
   "cell_type": "code",
   "execution_count": 158,
   "id": "06ff2a74",
   "metadata": {},
   "outputs": [
    {
     "data": {
      "text/plain": [
       "''"
      ]
     },
     "execution_count": 158,
     "metadata": {},
     "output_type": "execute_result"
    }
   ],
   "source": [
    "\"\" and \"madrid\""
   ]
  },
  {
   "cell_type": "code",
   "execution_count": 160,
   "id": "10619675",
   "metadata": {},
   "outputs": [
    {
     "data": {
      "text/plain": [
       "False"
      ]
     },
     "execution_count": 160,
     "metadata": {},
     "output_type": "execute_result"
    }
   ],
   "source": [
    "not(\"sddsddsdsd\")"
   ]
  },
  {
   "cell_type": "code",
   "execution_count": 161,
   "id": "00cb7baa",
   "metadata": {},
   "outputs": [],
   "source": [
    "# bitwise: skip"
   ]
  },
  {
   "cell_type": "markdown",
   "id": "2ba25a19",
   "metadata": {},
   "source": [
    "# shorthand"
   ]
  },
  {
   "cell_type": "markdown",
   "id": "9f5049ae",
   "metadata": {},
   "source": [
    " a+=1: expanded form a=a+1 "
   ]
  },
  {
   "cell_type": "code",
   "execution_count": 164,
   "id": "6ac14aa9",
   "metadata": {},
   "outputs": [
    {
     "name": "stdout",
     "output_type": "stream",
     "text": [
      "9.0\n"
     ]
    }
   ],
   "source": [
    "a=9\n",
    "b=1\n",
    "a/=b   # a=a+b\n",
    "print(a)"
   ]
  },
  {
   "cell_type": "markdown",
   "id": "fcacb03b",
   "metadata": {},
   "source": [
    "# special operator "
   ]
  },
  {
   "cell_type": "markdown",
   "id": "264ffc78",
   "metadata": {},
   "source": [
    "## membership: \n",
    "\n",
    " in \n",
    " \n",
    " not in"
   ]
  },
  {
   "cell_type": "code",
   "execution_count": 165,
   "id": "864b05ff",
   "metadata": {},
   "outputs": [
    {
     "data": {
      "text/plain": [
       "False"
      ]
     },
     "execution_count": 165,
     "metadata": {},
     "output_type": "execute_result"
    }
   ],
   "source": [
    "\"g\" in \"madrid\""
   ]
  },
  {
   "cell_type": "code",
   "execution_count": 166,
   "id": "a4d3721b",
   "metadata": {},
   "outputs": [
    {
     "data": {
      "text/plain": [
       "True"
      ]
     },
     "execution_count": 166,
     "metadata": {},
     "output_type": "execute_result"
    }
   ],
   "source": [
    "\"m\" in \"madrid\""
   ]
  },
  {
   "cell_type": "code",
   "execution_count": 167,
   "id": "bc77fdc5",
   "metadata": {},
   "outputs": [
    {
     "data": {
      "text/plain": [
       "True"
      ]
     },
     "execution_count": 167,
     "metadata": {},
     "output_type": "execute_result"
    }
   ],
   "source": [
    "\"ma\" in \"madrid\""
   ]
  },
  {
   "cell_type": "code",
   "execution_count": 168,
   "id": "257d89bf",
   "metadata": {},
   "outputs": [
    {
     "data": {
      "text/plain": [
       "False"
      ]
     },
     "execution_count": 168,
     "metadata": {},
     "output_type": "execute_result"
    }
   ],
   "source": [
    "\"mar\" in \"madrid\""
   ]
  },
  {
   "cell_type": "code",
   "execution_count": 169,
   "id": "2bcd0400",
   "metadata": {},
   "outputs": [
    {
     "data": {
      "text/plain": [
       "True"
      ]
     },
     "execution_count": 169,
     "metadata": {},
     "output_type": "execute_result"
    }
   ],
   "source": [
    "\"mad\" in \"madrid\""
   ]
  },
  {
   "cell_type": "code",
   "execution_count": 170,
   "id": "8d86b5c1",
   "metadata": {},
   "outputs": [
    {
     "ename": "TypeError",
     "evalue": "'in <string>' requires string as left operand, not int",
     "output_type": "error",
     "traceback": [
      "\u001b[1;31m---------------------------------------------------------------------------\u001b[0m",
      "\u001b[1;31mTypeError\u001b[0m                                 Traceback (most recent call last)",
      "Input \u001b[1;32mIn [170]\u001b[0m, in \u001b[0;36m<cell line: 1>\u001b[1;34m()\u001b[0m\n\u001b[1;32m----> 1\u001b[0m \u001b[38;5;241;43m12\u001b[39;49m\u001b[43m \u001b[49m\u001b[38;5;129;43;01min\u001b[39;49;00m\u001b[43m \u001b[49m\u001b[38;5;124;43m\"\u001b[39;49m\u001b[38;5;124;43mbalmeet@1234\u001b[39;49m\u001b[38;5;124;43m\"\u001b[39;49m\n",
      "\u001b[1;31mTypeError\u001b[0m: 'in <string>' requires string as left operand, not int"
     ]
    }
   ],
   "source": [
    "12 in \"balmeet@1234\""
   ]
  },
  {
   "cell_type": "code",
   "execution_count": 171,
   "id": "fa01c41e",
   "metadata": {},
   "outputs": [
    {
     "data": {
      "text/plain": [
       "True"
      ]
     },
     "execution_count": 171,
     "metadata": {},
     "output_type": "execute_result"
    }
   ],
   "source": [
    "\"12\" in \"balmeet@1234\""
   ]
  },
  {
   "cell_type": "code",
   "execution_count": 173,
   "id": "db334925",
   "metadata": {},
   "outputs": [
    {
     "data": {
      "text/plain": [
       "True"
      ]
     },
     "execution_count": 173,
     "metadata": {},
     "output_type": "execute_result"
    }
   ],
   "source": [
    "\"12454665\"  not in \"balmeet@1234\""
   ]
  },
  {
   "cell_type": "code",
   "execution_count": 174,
   "id": "52be6453",
   "metadata": {},
   "outputs": [
    {
     "ename": "TypeError",
     "evalue": "argument of type 'int' is not iterable",
     "output_type": "error",
     "traceback": [
      "\u001b[1;31m---------------------------------------------------------------------------\u001b[0m",
      "\u001b[1;31mTypeError\u001b[0m                                 Traceback (most recent call last)",
      "Input \u001b[1;32mIn [174]\u001b[0m, in \u001b[0;36m<cell line: 1>\u001b[1;34m()\u001b[0m\n\u001b[1;32m----> 1\u001b[0m \u001b[38;5;124;43m\"\u001b[39;49m\u001b[38;5;124;43m12\u001b[39;49m\u001b[38;5;124;43m\"\u001b[39;49m\u001b[43m \u001b[49m\u001b[38;5;129;43;01min\u001b[39;49;00m\u001b[43m \u001b[49m\u001b[38;5;241;43m123\u001b[39;49m\n",
      "\u001b[1;31mTypeError\u001b[0m: argument of type 'int' is not iterable"
     ]
    }
   ],
   "source": [
    "\"12\" in 123"
   ]
  },
  {
   "cell_type": "code",
   "execution_count": 175,
   "id": "8a0e8d2e",
   "metadata": {},
   "outputs": [
    {
     "data": {
      "text/plain": [
       "False"
      ]
     },
     "execution_count": 175,
     "metadata": {},
     "output_type": "execute_result"
    }
   ],
   "source": [
    "l=[\"madrid\",\"12356@456\",123,\"567\",\"python\",\"90.8\"]\n",
    "\"mad\" in l"
   ]
  },
  {
   "cell_type": "code",
   "execution_count": 176,
   "id": "d7f839aa",
   "metadata": {},
   "outputs": [
    {
     "data": {
      "text/plain": [
       "False"
      ]
     },
     "execution_count": 176,
     "metadata": {},
     "output_type": "execute_result"
    }
   ],
   "source": [
    "l=[\"madrid\",\"12356@456\",123,\"567\",\"python\",\"90.8\"]\n",
    "\"67\" in l"
   ]
  },
  {
   "cell_type": "code",
   "execution_count": 178,
   "id": "2fb3c06c",
   "metadata": {},
   "outputs": [
    {
     "data": {
      "text/plain": [
       "True"
      ]
     },
     "execution_count": 178,
     "metadata": {},
     "output_type": "execute_result"
    }
   ],
   "source": [
    "\"90.8\" in l"
   ]
  },
  {
   "cell_type": "code",
   "execution_count": 179,
   "id": "deb0e555",
   "metadata": {},
   "outputs": [
    {
     "data": {
      "text/plain": [
       "False"
      ]
     },
     "execution_count": 179,
     "metadata": {},
     "output_type": "execute_result"
    }
   ],
   "source": [
    "\"1234\" in l"
   ]
  },
  {
   "cell_type": "markdown",
   "id": "2405f057",
   "metadata": {},
   "source": [
    "# identity : \n",
    " - is\n",
    " - is not "
   ]
  },
  {
   "cell_type": "code",
   "execution_count": 181,
   "id": "568ad9fd",
   "metadata": {},
   "outputs": [
    {
     "name": "stdout",
     "output_type": "stream",
     "text": [
      "2697837630608\n",
      "2697954563312\n"
     ]
    },
    {
     "data": {
      "text/plain": [
       "False"
      ]
     },
     "execution_count": 181,
     "metadata": {},
     "output_type": "execute_result"
    }
   ],
   "source": [
    "a=90\n",
    "b=900\n",
    "print(id(a))\n",
    "print(id(b))\n",
    "a is b"
   ]
  },
  {
   "cell_type": "code",
   "execution_count": 182,
   "id": "b6f57df7",
   "metadata": {},
   "outputs": [
    {
     "name": "stdout",
     "output_type": "stream",
     "text": [
      "2697837630608\n",
      "2697837630608\n"
     ]
    },
    {
     "data": {
      "text/plain": [
       "True"
      ]
     },
     "execution_count": 182,
     "metadata": {},
     "output_type": "execute_result"
    }
   ],
   "source": [
    "a=90\n",
    "b=a\n",
    "print(id(a))\n",
    "print(id(b))\n",
    "a is b"
   ]
  },
  {
   "cell_type": "markdown",
   "id": "af352121",
   "metadata": {},
   "source": [
    "# Raj has 24 candies, simran has 34 candies, aditya has 21 candies . Candies would be equally distributed\n",
    "# How many candies need to be distributed to each of them and remaning candies need to given to diksha ?"
   ]
  },
  {
   "cell_type": "code",
   "execution_count": 185,
   "id": "943eff39",
   "metadata": {},
   "outputs": [
    {
     "name": "stdout",
     "output_type": "stream",
     "text": [
      "the total candies   79\n",
      "each one gets  26\n",
      "diksha gets  1\n"
     ]
    }
   ],
   "source": [
    "r=24\n",
    "s=34\n",
    "a=21\n",
    "total=r+s+a\n",
    "print(\"the total candies  \",total)\n",
    "ec=total//3\n",
    "print(\"each one gets \",ec)\n",
    "rem=total%3\n",
    "print(\"diksha gets \",rem)"
   ]
  },
  {
   "cell_type": "markdown",
   "id": "daed3027",
   "metadata": {},
   "source": [
    "# escape sequence : are the special characters that are not considered as normal characters when we use as a  a part of string rather they themseleves converted into their own meaning"
   ]
  },
  {
   "cell_type": "code",
   "execution_count": 186,
   "id": "a29ba591",
   "metadata": {},
   "outputs": [],
   "source": [
    "# \\n : new line "
   ]
  },
  {
   "cell_type": "code",
   "execution_count": 187,
   "id": "f684d27d",
   "metadata": {},
   "outputs": [
    {
     "name": "stdout",
     "output_type": "stream",
     "text": [
      "balmeet\n",
      "kaur\n"
     ]
    }
   ],
   "source": [
    "print(\"balmeet\\nkaur\")"
   ]
  },
  {
   "cell_type": "code",
   "execution_count": 188,
   "id": "2cd38807",
   "metadata": {},
   "outputs": [],
   "source": [
    "# task : \"balmeet\\nkaur\""
   ]
  },
  {
   "cell_type": "code",
   "execution_count": null,
   "id": "9be84445",
   "metadata": {},
   "outputs": [],
   "source": [
    "# \\ backslash"
   ]
  },
  {
   "cell_type": "code",
   "execution_count": 190,
   "id": "a644304c",
   "metadata": {},
   "outputs": [
    {
     "name": "stdout",
     "output_type": "stream",
     "text": [
      "balmeet\\nkaur\n"
     ]
    }
   ],
   "source": [
    "print('balmeet\\\\nkaur')"
   ]
  },
  {
   "cell_type": "code",
   "execution_count": 191,
   "id": "cdf31dce",
   "metadata": {},
   "outputs": [],
   "source": [
    "# task : balmeet/nkaur"
   ]
  },
  {
   "cell_type": "code",
   "execution_count": 192,
   "id": "df3f5c20",
   "metadata": {},
   "outputs": [
    {
     "name": "stdout",
     "output_type": "stream",
     "text": [
      "balmeet/nkaur\n"
     ]
    }
   ],
   "source": [
    "print(\"balmeet/nkaur\")"
   ]
  },
  {
   "cell_type": "code",
   "execution_count": 193,
   "id": "8f1fb9a5",
   "metadata": {},
   "outputs": [],
   "source": [
    "# \\t : tab"
   ]
  },
  {
   "cell_type": "code",
   "execution_count": 194,
   "id": "65bc244a",
   "metadata": {},
   "outputs": [
    {
     "name": "stdout",
     "output_type": "stream",
     "text": [
      "balmeet\tkaur\n"
     ]
    }
   ],
   "source": [
    "print(\"balmeet\\tkaur\")"
   ]
  },
  {
   "cell_type": "code",
   "execution_count": 195,
   "id": "ac7b0561",
   "metadata": {},
   "outputs": [
    {
     "name": "stdout",
     "output_type": "stream",
     "text": [
      "balmeet\\tkaur\n"
     ]
    }
   ],
   "source": [
    "print(\"balmeet\\\\tkaur\")"
   ]
  },
  {
   "cell_type": "code",
   "execution_count": 196,
   "id": "7323805e",
   "metadata": {},
   "outputs": [],
   "source": [
    "# task : hi how'r u : using single quotes "
   ]
  },
  {
   "cell_type": "code",
   "execution_count": 198,
   "id": "dbc682ac",
   "metadata": {},
   "outputs": [
    {
     "name": "stdout",
     "output_type": "stream",
     "text": [
      "hi how'r u \n"
     ]
    }
   ],
   "source": [
    "print(\"hi how'r u \")"
   ]
  },
  {
   "cell_type": "code",
   "execution_count": 200,
   "id": "2bbb0927",
   "metadata": {},
   "outputs": [
    {
     "name": "stdout",
     "output_type": "stream",
     "text": [
      "hi how'r u \n"
     ]
    }
   ],
   "source": [
    "print('hi how\\'r u ')"
   ]
  },
  {
   "cell_type": "code",
   "execution_count": 201,
   "id": "807fdc1e",
   "metadata": {},
   "outputs": [],
   "source": [
    "# \\b : backspace"
   ]
  },
  {
   "cell_type": "code",
   "execution_count": 202,
   "id": "65edcd16",
   "metadata": {},
   "outputs": [
    {
     "name": "stdout",
     "output_type": "stream",
     "text": [
      "balmeet\bkaur\n"
     ]
    }
   ],
   "source": [
    "print(\"balmeet\\bkaur\")"
   ]
  },
  {
   "cell_type": "code",
   "execution_count": 203,
   "id": "8d0cde5e",
   "metadata": {},
   "outputs": [
    {
     "name": "stdout",
     "output_type": "stream",
     "text": [
      "enter the radius 5\n",
      "the area is  78.5\n"
     ]
    }
   ],
   "source": [
    "r=float(input(\"enter the radius \"))\n",
    "area=3.14*r**2\n",
    "print(\"the area is \",area)"
   ]
  },
  {
   "cell_type": "code",
   "execution_count": 205,
   "id": "aef24ecb",
   "metadata": {},
   "outputs": [
    {
     "name": "stdout",
     "output_type": "stream",
     "text": [
      "enter the first number 4\n",
      "enter the second number 5\n",
      "enter the third number 7\n",
      "the result is   48\n"
     ]
    }
   ],
   "source": [
    "n1=int(input(\"enter the first number \"))\n",
    "n2=int(input(\"enter the second number \"))\n",
    "n3=int(input(\"enter the third number \"))\n",
    "s=n1+n2+n3\n",
    "print(\"the result is  \",3*s)"
   ]
  },
  {
   "cell_type": "code",
   "execution_count": 206,
   "id": "9e67f08c",
   "metadata": {},
   "outputs": [],
   "source": [
    "# swapping"
   ]
  },
  {
   "cell_type": "code",
   "execution_count": 207,
   "id": "4f6fafd1",
   "metadata": {},
   "outputs": [
    {
     "name": "stdout",
     "output_type": "stream",
     "text": [
      "enter the value of a56\n",
      "enter the value of b78\n",
      "before swapping \n",
      "the value of a  56\n",
      "the value of b  78\n",
      "after swapping\n",
      "the value of a is  78\n",
      "the value of b is  56\n"
     ]
    }
   ],
   "source": [
    "a=int(input(\"enter the value of a\"))\n",
    "b=int(input(\"enter the value of b\"))\n",
    "print(\"before swapping \")\n",
    "print(\"the value of a \",a)\n",
    "print(\"the value of b \",b)\n",
    "temp=a\n",
    "a=b\n",
    "b=temp\n",
    "print(\"after swapping\")\n",
    "print(\"the value of a is \",a)\n",
    "print(\"the value of b is \",b)"
   ]
  },
  {
   "cell_type": "code",
   "execution_count": 208,
   "id": "d1953e55",
   "metadata": {},
   "outputs": [
    {
     "name": "stdout",
     "output_type": "stream",
     "text": [
      "enter the value of a67\n",
      "enter the value of b12\n",
      "before swapping \n",
      "the value of a  67\n",
      "the value of b  12\n",
      "after swapping\n",
      "the value of a is  12\n",
      "the value of b is  67\n"
     ]
    }
   ],
   "source": [
    "a=int(input(\"enter the value of a\"))\n",
    "b=int(input(\"enter the value of b\"))\n",
    "print(\"before swapping \")\n",
    "print(\"the value of a \",a)\n",
    "print(\"the value of b \",b)\n",
    "a,b=b,a\n",
    "print(\"after swapping\")\n",
    "print(\"the value of a is \",a)\n",
    "print(\"the value of b is \",b)"
   ]
  },
  {
   "cell_type": "markdown",
   "id": "eb9c0aea",
   "metadata": {},
   "source": [
    "# operator precendence and associativity"
   ]
  },
  {
   "cell_type": "code",
   "execution_count": 212,
   "id": "096c3e83",
   "metadata": {},
   "outputs": [
    {
     "name": "stdout",
     "output_type": "stream",
     "text": [
      "False\n"
     ]
    }
   ],
   "source": [
    "print(3+4*2/1<6)"
   ]
  },
  {
   "cell_type": "markdown",
   "id": "627bdffa",
   "metadata": {},
   "source": [
    "operatorshttps://www.geeksforgeeks.org/precedence-and-associativity-of-operators-in-python/"
   ]
  },
  {
   "cell_type": "code",
   "execution_count": null,
   "id": "b7c59a8f",
   "metadata": {},
   "outputs": [],
   "source": []
  }
 ],
 "metadata": {
  "kernelspec": {
   "display_name": "Python 3 (ipykernel)",
   "language": "python",
   "name": "python3"
  },
  "language_info": {
   "codemirror_mode": {
    "name": "ipython",
    "version": 3
   },
   "file_extension": ".py",
   "mimetype": "text/x-python",
   "name": "python",
   "nbconvert_exporter": "python",
   "pygments_lexer": "ipython3",
   "version": "3.9.7"
  }
 },
 "nbformat": 4,
 "nbformat_minor": 5
}
