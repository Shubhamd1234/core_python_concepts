{
 "cells": [
  {
   "cell_type": "markdown",
   "id": "8d1720f0",
   "metadata": {},
   "source": [
    "# Branching statements\n",
    "\n",
    "- conditional statmenets\n",
    "- looping statements"
   ]
  },
  {
   "cell_type": "markdown",
   "id": "ad6744bd",
   "metadata": {},
   "source": [
    "# Conditional statments/ decision statements"
   ]
  },
  {
   "cell_type": "markdown",
   "id": "92ec3c44",
   "metadata": {},
   "source": [
    "- if\n",
    "- if -else\n",
    "- if-elif\n",
    "- if-elif -else\n",
    "- nested if-elif-else"
   ]
  },
  {
   "cell_type": "markdown",
   "id": "46c6ff80",
   "metadata": {},
   "source": [
    "# case 1: if "
   ]
  },
  {
   "cell_type": "code",
   "execution_count": 7,
   "id": "cd299cc4",
   "metadata": {},
   "outputs": [
    {
     "name": "stdout",
     "output_type": "stream",
     "text": [
      "enter the distance 56\n"
     ]
    }
   ],
   "source": [
    "distance=int(input(\"enter the distance \"))\n",
    "if distance>400:\n",
    "    print(\"i will go to the outing \")\n",
    "#print(\"helo\")\n",
    "    "
   ]
  },
  {
   "cell_type": "markdown",
   "id": "91e96bc9",
   "metadata": {},
   "source": [
    "# case 2:  if -else"
   ]
  },
  {
   "cell_type": "code",
   "execution_count": 8,
   "id": "365e975f",
   "metadata": {},
   "outputs": [
    {
     "name": "stdout",
     "output_type": "stream",
     "text": [
      "enter the distance 670\n",
      "i will go to the outing \n",
      "heloz\n"
     ]
    }
   ],
   "source": [
    "distance=int(input(\"enter the distance \"))\n",
    "if distance>400:\n",
    "    print(\"i will go to the outing \")\n",
    "else:\n",
    "    print(\"will stay at home\")\n",
    "print(\"heloz\")"
   ]
  },
  {
   "cell_type": "markdown",
   "id": "edaee142",
   "metadata": {},
   "source": [
    "# case 3: if -elif "
   ]
  },
  {
   "cell_type": "code",
   "execution_count": 15,
   "id": "e0e979a9",
   "metadata": {},
   "outputs": [
    {
     "name": "stdout",
     "output_type": "stream",
     "text": [
      "enter the distance -9\n",
      "will go via personal car\n",
      "heloz\n"
     ]
    }
   ],
   "source": [
    "distance=int(input(\"enter the distance \"))\n",
    "if distance<100:\n",
    "    print(\"will go via personal car\")\n",
    "elif distance>=100 and distance<=200:\n",
    "    print(\"will go via cab\")\n",
    "elif distance>200 and distance<=300:\n",
    "    print(\"will go via bus\")\n",
    "elif distance>300 and distance<=400:\n",
    "    print(\"will go via train\")\n",
    "elif distance>400:\n",
    "    print(\"will go via flight\")\n",
    "print(\"heloz\")\n",
    "    "
   ]
  },
  {
   "cell_type": "code",
   "execution_count": 19,
   "id": "08537292",
   "metadata": {},
   "outputs": [
    {
     "name": "stdout",
     "output_type": "stream",
     "text": [
      "enter the distance -8\n",
      "distance can't be negative\n",
      "heloz\n"
     ]
    }
   ],
   "source": [
    "distance=int(input(\"enter the distance \"))\n",
    "if distance>0 and distance<100:\n",
    "    print(\"will go via personal car\")\n",
    "elif distance>=100 and distance<=200:\n",
    "    print(\"will go via cab\")\n",
    "elif distance>200 and distance<=300:\n",
    "    print(\"will go via bus\")\n",
    "elif distance>300 and distance<=400:\n",
    "    print(\"will go via train\")\n",
    "elif distance>400:\n",
    "    print(\"will go via flight\")\n",
    "else :\n",
    "    print(\"distance can't be negative\")\n",
    "print(\"heloz\")\n",
    "    "
   ]
  },
  {
   "cell_type": "markdown",
   "id": "991bfdf6",
   "metadata": {},
   "source": [
    "# case 5: nested "
   ]
  },
  {
   "cell_type": "code",
   "execution_count": 26,
   "id": "d74f6485",
   "metadata": {},
   "outputs": [
    {
     "name": "stdout",
     "output_type": "stream",
     "text": [
      "enter the distance 34\n",
      "will go via personal car\n",
      "enter the wether status fggfgfhhgju\n",
      "this wether is invalid \n",
      "heloz\n"
     ]
    }
   ],
   "source": [
    "distance=int(input(\"enter the distance \"))\n",
    "if distance>0 and distance<100:\n",
    "    print(\"will go via personal car\")\n",
    "    wether=input(\"enter the wether status \")\n",
    "    if wether==\"sunny\":\n",
    "        print(\"will buy more drinks\")\n",
    "    elif wether==\"windy\":\n",
    "        print(\"will take the stop and enjoy the wether on my way\")\n",
    "    elif wether==\"stormy\":\n",
    "        print(\"will continue my drive\")\n",
    "    else:\n",
    "        print(\"this wether is invalid \")\n",
    "elif distance>=100 and distance<=200:\n",
    "    print(\"will go via cab\")\n",
    "elif distance>200 and distance<=300:\n",
    "    print(\"will go via bus\")\n",
    "elif distance>300 and distance<=400:\n",
    "    print(\"will go via train\")\n",
    "elif distance>400:\n",
    "    print(\"will go via flight\")\n",
    "    flight=input(\"enter the flight \")\n",
    "    if flight==\"indigo\":\n",
    "        print(\"will carry the home food\")\n",
    "    elif flight==\"air india\":\n",
    "        print(\"will carry light snacks\")\n",
    "    elif flight==\"vistara\":\n",
    "        print(\"wont carry the food\")\n",
    "    else:\n",
    "        print(\"this flight is invalid\")\n",
    "else :\n",
    "    print(\"distance can't be negative\")\n",
    "print(\"heloz\")\n",
    "    "
   ]
  },
  {
   "cell_type": "markdown",
   "id": "751540f9",
   "metadata": {},
   "source": [
    "# Wap to display the entered number is  even and odd given by user"
   ]
  },
  {
   "cell_type": "code",
   "execution_count": 28,
   "id": "30c3595d",
   "metadata": {},
   "outputs": [
    {
     "name": "stdout",
     "output_type": "stream",
     "text": [
      "Enter the number 11\n",
      "11 is odd\n"
     ]
    }
   ],
   "source": [
    "num=int(input(\"Enter the number \"))\n",
    "if num%2==0:\n",
    "    print(num,\"is even\")\n",
    "else:\n",
    "    print(num,\"is odd\")"
   ]
  },
  {
   "cell_type": "markdown",
   "id": "2b284352",
   "metadata": {},
   "source": [
    "## wap to display whether the entered number is positive,negative "
   ]
  },
  {
   "cell_type": "code",
   "execution_count": 32,
   "id": "5604fc67",
   "metadata": {},
   "outputs": [
    {
     "name": "stdout",
     "output_type": "stream",
     "text": [
      "enter the number 0\n",
      "0 is positive\n"
     ]
    }
   ],
   "source": [
    "num=int(input(\"enter the number \"))\n",
    "if num>=0:\n",
    "    print(num,\"is positive\")\n",
    "else:\n",
    "    print(num,\"is negative\")"
   ]
  },
  {
   "cell_type": "code",
   "execution_count": null,
   "id": "6246fd6a",
   "metadata": {},
   "outputs": [],
   "source": [
    "num=int(input(\"enter the number \"))\n",
    "if num>0:\n",
    "    print(num,\"is positive\")\n",
    "elif num==0:\n",
    "    print(num,\"is zero\")\n",
    "else:\n",
    "    print(num,\"is negative\")"
   ]
  },
  {
   "cell_type": "markdown",
   "id": "83f3127a",
   "metadata": {},
   "source": [
    "# wap to display \n",
    "- happy : if the entered number is divisble by 5 only\n",
    "- sad : if the entered number is divisble by 6 only\n",
    "- excited : if the enetred number is divisble by both 5 and 6"
   ]
  },
  {
   "cell_type": "code",
   "execution_count": 42,
   "id": "3031d3ed",
   "metadata": {},
   "outputs": [
    {
     "name": "stdout",
     "output_type": "stream",
     "text": [
      "enter the number 30\n",
      "excited\n"
     ]
    }
   ],
   "source": [
    "num=int(input(\"enter the number \"))\n",
    "if num%5==0 and num%6==0:\n",
    "    print(\"excited\")\n",
    "elif num%6==0:\n",
    "    print(\"sad\")\n",
    "elif num%5==0:\n",
    "    print(\"happy\")\n",
    "else:\n",
    "    print(num,\"is neither divisble by 5 nor by 6\")\n",
    "    \n"
   ]
  },
  {
   "cell_type": "code",
   "execution_count": null,
   "id": "9fc166db",
   "metadata": {},
   "outputs": [],
   "source": [
    "# nested "
   ]
  },
  {
   "cell_type": "code",
   "execution_count": null,
   "id": "26327002",
   "metadata": {},
   "outputs": [],
   "source": []
  },
  {
   "cell_type": "markdown",
   "id": "31130140",
   "metadata": {},
   "source": [
    "# wap to display the detained status of the student\n",
    "as per the following criteria\n",
    "\n",
    "persent percentage>=75 : not detained otherwise detained\n",
    "\n",
    "\n",
    "input: \n",
    "\n",
    "- total number of working days\n",
    "- total number of absent days\n"
   ]
  },
  {
   "cell_type": "code",
   "execution_count": 46,
   "id": "1a60246a",
   "metadata": {},
   "outputs": [
    {
     "name": "stdout",
     "output_type": "stream",
     "text": [
      "enter the total working days12\n",
      "enter the total abset days 34\n",
      "kindly check the enteries again\n"
     ]
    }
   ],
   "source": [
    "tw=int(input(\"enter the total working days\"))\n",
    "ab=int(input(\"enter the total abset days \"))\n",
    "if tw>=ab:\n",
    "    pr=tw-ab\n",
    "    print(\"present days \",pr)\n",
    "    per=pr*100/tw\n",
    "    print(\"present % is \",per)\n",
    "    if per>=75:\n",
    "        print(\"not detained\")\n",
    "    else:\n",
    "        print(\"detained\")\n",
    "else:\n",
    "    print(\"kindly check the enteries again\")\n",
    "    \n",
    "    \n",
    "    \n"
   ]
  },
  {
   "cell_type": "markdown",
   "id": "3deb98c6",
   "metadata": {},
   "source": [
    "# wap to display wether the entered character is vowel or not"
   ]
  },
  {
   "cell_type": "code",
   "execution_count": 60,
   "id": "775e5cdb",
   "metadata": {},
   "outputs": [
    {
     "name": "stdout",
     "output_type": "stream",
     "text": [
      "enter the charcater >\n",
      "consonant\n"
     ]
    }
   ],
   "source": [
    "ch=input(\"enter the charcater \")\n",
    "if ch in [\"a\",\"e\",\"i\",\"o\",\"u\",\"A\",\"E\",\"O\",\"I\",\"U\"]:\n",
    "    print(ch,\"is vowel\")\n",
    "else:\n",
    "    print(\"not vowel\")"
   ]
  },
  {
   "cell_type": "markdown",
   "id": "ee5c12da",
   "metadata": {},
   "source": [
    "## ascii values "
   ]
  },
  {
   "cell_type": "code",
   "execution_count": 70,
   "id": "fcf2d874",
   "metadata": {},
   "outputs": [
    {
     "data": {
      "text/plain": [
       "117"
      ]
     },
     "execution_count": 70,
     "metadata": {},
     "output_type": "execute_result"
    }
   ],
   "source": [
    "ord(\"u\") # : it is inbuilt function which tells the ascci values"
   ]
  },
  {
   "cell_type": "code",
   "execution_count": 67,
   "id": "e3868f7b",
   "metadata": {},
   "outputs": [
    {
     "data": {
      "text/plain": [
       "'#'"
      ]
     },
     "execution_count": 67,
     "metadata": {},
     "output_type": "execute_result"
    }
   ],
   "source": [
    "chr(35)"
   ]
  },
  {
   "cell_type": "code",
   "execution_count": 69,
   "id": "d3484f87",
   "metadata": {},
   "outputs": [
    {
     "name": "stdout",
     "output_type": "stream",
     "text": [
      "enter the charcater u\n",
      "u is vowel\n"
     ]
    }
   ],
   "source": [
    "ch=input(\"enter the charcater \")\n",
    "if (ord(ch)>=65 and ord(ch)<=90) or (ord(ch)>=97 and ord(ch)<=122):\n",
    "    if ch in [\"a\",\"e\",\"i\",\"o\",\"u\",\"A\",\"E\",\"O\",\"I\",\"U\"]:\n",
    "        print(ch,\"is vowel\")\n",
    "    else:\n",
    "        print(\"conosnnat\")\n",
    "else:\n",
    "    print(ch,\"is special characer\")"
   ]
  },
  {
   "cell_type": "markdown",
   "id": "1dac7d76",
   "metadata": {},
   "source": [
    "The Paschim Gujarat Vij Company Ltd. computes the electricity bill based on the following table:\n",
    "\n",
    "\n",
    "Units Consumed\t      Charges\n",
    "\n",
    "\n",
    "0-100\t             0.50 per unit\n",
    "\n",
    "101-200\t             Rs. 50 plus Rs. 1 per unit over 100 units\n",
    "\n",
    "201-300\t             Rs. 150 plus 1.50 per unit over 200 units\n",
    "\n",
    "> 300\t             Rs. 300 plus Rs.2 per unit over 300 units\n",
    "\n",
    "\n",
    "\n",
    " Hint : 300+(500-300)*2 if unit is 500\n",
    "1.\tAsk user to enter the Past meter reading and current meter reading.\n",
    "2.\tFind the units consumed.\n",
    "3.\tCompute the bill according to given matrix.\n"
   ]
  },
  {
   "cell_type": "code",
   "execution_count": 75,
   "id": "3f110f3a",
   "metadata": {},
   "outputs": [
    {
     "name": "stdout",
     "output_type": "stream",
     "text": [
      "enter the past metere reading 670\n",
      "enter the current metere reading 340\n",
      "there is machine error plz check the reading again\n"
     ]
    }
   ],
   "source": [
    "pr=float(input(\"enter the past metere reading \"))\n",
    "cr=float(input(\"enter the current metere reading \"))\n",
    "if pr<=cr:\n",
    "    units_consumed=cr-pr\n",
    "    print(\"units consumed is\", units_consumed)\n",
    "    print(\"*******************bill**************************\")\n",
    "    if units_consumed>=0 and units_consumed<=100:\n",
    "        print(\"ur bill is \",units_consumed*0.5)\n",
    "    elif units_consumed>=101 and units_consumed<=200:\n",
    "        print(\"ur bill is \",50+(units_consumed-100)*1)\n",
    "    elif units_consumed>=201 and units_consumed<=300:\n",
    "        print(\"ur bill is \",150+(units_consumed-200)*1.5)\n",
    "    elif units_consumed>300 :\n",
    "        print(\"ur bill is \",300+(units_consumed-300)*2)\n",
    "else:\n",
    "    print(\"there is machine error plz check the reading again\")\n",
    "    \n",
    "    \n"
   ]
  },
  {
   "cell_type": "markdown",
   "id": "03d648d1",
   "metadata": {},
   "source": [
    "# task 2: \n",
    "\n",
    "\n",
    "display result of stduent\n",
    "\n",
    "\n",
    "A:per of marks >90\n",
    "B : per of marks : 75 to 90\n",
    "c: per of marks :  50 to 75\n",
    "otherwise d\n",
    "\n",
    "input : \n",
    "stduents marks for 5 subject s"
   ]
  },
  {
   "cell_type": "markdown",
   "id": "7e1aab46",
   "metadata": {},
   "source": [
    "# dummy atm"
   ]
  },
  {
   "cell_type": "code",
   "execution_count": 82,
   "id": "d5ddaa4a",
   "metadata": {},
   "outputs": [],
   "source": [
    "pin=\"12345\"\n",
    "username=\"balmeet\"\n",
    "balance=10000"
   ]
  },
  {
   "cell_type": "code",
   "execution_count": 90,
   "id": "28896d07",
   "metadata": {},
   "outputs": [
    {
     "name": "stdout",
     "output_type": "stream",
     "text": [
      "-----------------welcome  SBI ATM----------------------------\n",
      "1  : withdrawl\n",
      "2  : deposit\n",
      "3  : check balance\n",
      "4  : reset pin\n",
      "enter the choice 3\n",
      "enter the pin balmeet1234\n",
      "welcome .. balmeet\n",
      "ur  balance is  3000\n"
     ]
    }
   ],
   "source": [
    "print(\"-----------------welcome  SBI ATM----------------------------\")\n",
    "print(\"1  : withdrawl\\n2  : deposit\\n3  : check balance\\n4  : reset pin\")\n",
    "choice=input(\"enter the choice \")\n",
    "if choice==\"1\":\n",
    "    p=input(\"enter the pin \")\n",
    "    if p==pin:\n",
    "        print(\"welcome ..\",username)\n",
    "        amount=int(input(\"enter the withdrawl amount\"))\n",
    "        if amount<=balance:\n",
    "            balance=balance-amount\n",
    "            print(\"withdrwal succesfully\")\n",
    "        else:\n",
    "            print(\"insufficient amount\")\n",
    "    else:\n",
    "        print(\"invalid user \")\n",
    "elif choice==\"2\":\n",
    "    p=input(\"enter the pin \")\n",
    "    if p==pin:\n",
    "        print(\"welcome ..\",username)\n",
    "        amount=int(input(\"enter the amount to be deposited\"))\n",
    "        balance=balance+amount\n",
    "        print(\"deposit succesfully \")\n",
    "        print(\"updated balance is \",balance)\n",
    "    else:\n",
    "        print(\"invalid user \")\n",
    "elif choice==\"3\":\n",
    "    p=input(\"enter the pin \")\n",
    "    if p==pin:\n",
    "        print(\"welcome ..\",username)\n",
    "        print(\"ur  balance is \",balance)\n",
    "    else:\n",
    "        print(\"invalid user \")\n",
    "elif choice==\"4\":\n",
    "    p=input(\"enter the pin \")\n",
    "    if p==pin:\n",
    "        print(\"welcome ..\",username)\n",
    "        p=input(\"enter the new pin \")\n",
    "        pin=p\n",
    "        print(\"ur pin has been updated \")\n",
    "    else:\n",
    "        print(\"invalid user \")\n",
    "else:\n",
    "    print(\"soryy..!!! this choice is not available now\")\n",
    "    \n",
    "\n",
    "        \n",
    "    \n",
    "    \n",
    "        \n",
    "    \n",
    "    "
   ]
  },
  {
   "cell_type": "markdown",
   "id": "9ade6e7e",
   "metadata": {},
   "source": [
    "# wap to display the days corresonding to the month number given by user"
   ]
  },
  {
   "cell_type": "code",
   "execution_count": 101,
   "id": "d61825c1",
   "metadata": {},
   "outputs": [
    {
     "name": "stdout",
     "output_type": "stream",
     "text": [
      "enter the month number 2\n",
      "this month has 28/29 days \n",
      "enter the year 1900\n",
      "1900  this  year having 28 days \n"
     ]
    }
   ],
   "source": [
    "month=input(\"enter the month number \")\n",
    "if month in [\"1\",\"3\",\"5\",\"7\",\"8\",\"10\",\"12\"]:\n",
    "    print(\"this month has 31 days \")\n",
    "elif month in [\"4\",\"6\",\"9\",\"11\"]:\n",
    "    print(\"this month has 30 days \")\n",
    "elif month==\"2\":\n",
    "    print(\"this month has 28/29 days \")\n",
    "    year=int(input(\"enter the year \"))\n",
    "    if (year%4==0 and year%100!=0) or (year%400==0 and year%100==0):\n",
    "        print(year, \"is leap year having 29 days \")\n",
    "    else:\n",
    "        print(year, \" this  year having 28 days \")\n",
    "else:\n",
    "    print(\"invlaid month\")\n",
    "    "
   ]
  },
  {
   "cell_type": "markdown",
   "id": "f93be7f2",
   "metadata": {},
   "source": [
    "# wap to display the largest among two numbers"
   ]
  },
  {
   "cell_type": "code",
   "execution_count": 116,
   "id": "ff079ee0",
   "metadata": {},
   "outputs": [
    {
     "name": "stdout",
     "output_type": "stream",
     "text": [
      "enter the first number 56\n",
      "enter the second number 56\n",
      "equal\n"
     ]
    }
   ],
   "source": [
    "n1=int(input(\"enter the first number \"))\n",
    "n2=int(input(\"enter the second number \"))\n",
    "if n1>n2:\n",
    "    print(n1,\"is greater\")\n",
    "elif n1<n2:\n",
    "    print(n2,\"is greater\")\n",
    "else:\n",
    "    print(\"equal\")"
   ]
  },
  {
   "cell_type": "markdown",
   "id": "82462871",
   "metadata": {},
   "source": [
    "# wap to display the largest among three  numbers"
   ]
  },
  {
   "cell_type": "code",
   "execution_count": 115,
   "id": "9e65bdcd",
   "metadata": {},
   "outputs": [
    {
     "name": "stdout",
     "output_type": "stream",
     "text": [
      "enter the first number 90\n",
      "enter the second number 8\n",
      "enter the third number 8\n",
      "90 is greater \n"
     ]
    }
   ],
   "source": [
    "n1=int(input(\"enter the first number \"))\n",
    "n2=int(input(\"enter the second number \"))\n",
    "n3=int(input(\"enter the third number \"))\n",
    "if n1>=n2 and n1>n3:\n",
    "    print(n1,\"is greater \")\n",
    "elif n2>n1 and n2>=n3:\n",
    "    print(n2 ,\"is greater\")\n",
    "elif n3>=n1 and n3>n2:\n",
    "    print(n3,\"is greater\")\n",
    "elif n1==n2==n3:\n",
    "    print(\"all are equal\")"
   ]
  },
  {
   "cell_type": "markdown",
   "id": "ec132d3b",
   "metadata": {},
   "source": [
    "# calculator"
   ]
  },
  {
   "cell_type": "code",
   "execution_count": 122,
   "id": "a7949a12",
   "metadata": {},
   "outputs": [
    {
     "name": "stdout",
     "output_type": "stream",
     "text": [
      "-----------------calculator------------------\n",
      "1 : addition\n",
      "2 : subtraction\n",
      "3 : multiplication\n",
      "4  : division\n",
      "\n",
      "enter the first number 34.5\n",
      "enter the second number 12.5\n",
      "enter the choice for operation 1\n",
      "the sum is  47.0\n"
     ]
    }
   ],
   "source": [
    "print(\"-----------------calculator------------------\")\n",
    "print(\"1 : addition\\n2 : subtraction\\n3 : multiplication\\n4  : division\\n\")\n",
    "n1=float(input(\"enter the first number \"))\n",
    "n2=float(input(\"enter the second number \"))\n",
    "choice=input(\"enter the choice for operation \")\n",
    "if choice==\"1\":\n",
    "    r=n1+n2\n",
    "    print(\"the sum is \",r)\n",
    "elif choice==\"2\":\n",
    "    r=n1-n2\n",
    "    print(\"the sub is \",r)\n",
    "elif choice==\"3\":\n",
    "    r=n1*n2\n",
    "    print(\"the mult is \",r)\n",
    "elif choice==\"4\":\n",
    "    r=n1/n2\n",
    "    print(\"the div is \",r)\n",
    "else:\n",
    "    print(\"in valid operation\")\n",
    "\n",
    "    "
   ]
  },
  {
   "cell_type": "markdown",
   "id": "f231642c",
   "metadata": {},
   "source": [
    "# wap to display wether the last digit of number given by user is divisble by 3 or not "
   ]
  },
  {
   "cell_type": "code",
   "execution_count": 126,
   "id": "6a8f2049",
   "metadata": {},
   "outputs": [
    {
     "name": "stdout",
     "output_type": "stream",
     "text": [
      "enter the number 125\n",
      "not\n"
     ]
    }
   ],
   "source": [
    "number=int(input(\"enter the number \"))\n",
    "ld=number%10\n",
    "if ld%3==0:\n",
    "    print(ld,\"of \",number,\"is divsible by 3\")\n",
    "else:\n",
    "    print(\"not\")"
   ]
  },
  {
   "cell_type": "markdown",
   "id": "087ca1a7",
   "metadata": {},
   "source": [
    "Consider you have your own restaurant : three item choices  is there :\n",
    "1:  pizza\n",
    "\n",
    "2:  burger\n",
    "\n",
    "3:  hotdog\n",
    "toppings available for pizza: paneer, mushrooms, and capsicum\n",
    "fillings avialable for burger and hot dog is  single layer cheeze and double layer cheese\n",
    "and side order menu is softdrinks\n"
   ]
  },
  {
   "cell_type": "code",
   "execution_count": 133,
   "id": "f919bdfb",
   "metadata": {},
   "outputs": [
    {
     "name": "stdout",
     "output_type": "stream",
     "text": [
      "---------------welcome madrid cafe------------------------\n",
      "p : pizaa  :  Rs300\n",
      "b : burger  : Rs100\n",
      "h : hotdog  : Rs130\n",
      "what would u like to have ?\n",
      "enter your choice for items h\n",
      "fillings available \n",
      "sc : single layer cheese  Rs70\n",
      "2 : double layer cheese  Rs100\n",
      "\n",
      "which fillings would u like to add ? \n",
      "enter the choice for filings sc\n",
      "ur bill is  200\n",
      "would u like to add sofdrink if yes press y otherwise press any key n\n",
      "final amount is  200\n"
     ]
    }
   ],
   "source": [
    "print(\"---------------welcome madrid cafe------------------------\")\n",
    "print(\"p : pizaa  :  Rs300\\nb : burger  : Rs100\\nh : hotdog  : Rs130\")\n",
    "print(\"what would u like to have ?\")\n",
    "choice=input(\"enter your choice for items \")\n",
    "amount=0\n",
    "if choice==\"p\":\n",
    "    print(\"topings available \\n1 : paneer  Rs70\\n2 : mashroom  Rs80\\n2 : capsicum  Rs40\\n\")\n",
    "    print(\"which toping would u like to add ? \")\n",
    "    top_ch=input(\"enter the choice for topings \")\n",
    "    if top_ch==\"1\":\n",
    "        amount=300+70\n",
    "        print(\"ur bill is \",amount)\n",
    "    elif top_ch==\"2\":\n",
    "        amount=300+80\n",
    "        print(\"ur bill is \",amount)\n",
    "    elif top_ch==\"3\":\n",
    "        amount=300+40\n",
    "        print(\"ur bill is \",amount)\n",
    "    \n",
    "    else:\n",
    "        print(\"sorryy..!! this toping is not available this time \")\n",
    "elif choice==\"b\":\n",
    "    print(\"fillings available \\nsc : single layer cheese  Rs50\\n2 : double layer cheese  Rs80\\n\")\n",
    "    print(\"which fillings would u like to add ? \")\n",
    "    fil_b=input(\"enter the choice for filings \")\n",
    "    if fil_b==\"sc\":\n",
    "        amount=100+50\n",
    "        print(\"ur bill is \",amount)\n",
    "    elif fil_b==\"dc\":\n",
    "        amount=100+80\n",
    "        print(\"ur bill is \",amount)\n",
    "    else:\n",
    "        print(\"this filings option is not presnt now\")\n",
    "elif choice==\"h\":\n",
    "    print(\"fillings available \\nsc : single layer cheese  Rs70\\n2 : double layer cheese  Rs100\\n\")\n",
    "    print(\"which fillings would u like to add ? \")\n",
    "    fil_b=input(\"enter the choice for filings \")\n",
    "    if fil_b==\"sc\":\n",
    "        amount=130+70\n",
    "        print(\"ur bill is \",amount)\n",
    "    elif fil_b==\"dc\":\n",
    "        amount=130+100\n",
    "        print(\"ur bill is \",amount)\n",
    "    else:\n",
    "        print(\"this filings option is not presnt now\")\n",
    "else:\n",
    "    print(\"sorry..!! this item is not available this time ..thnakuu\")\n",
    "s_ch=input(\"would u like to add sofdrink if yes press y otherwise press any key \")\n",
    "if s_ch==\"y\":\n",
    "    print(\"l: lemonade : Rs240\\nm: mojito : Rs310\\n\")\n",
    "    soft_ch=input(\"which softdrink would to like to add ? \")\n",
    "    if soft_ch==\"l\":\n",
    "        amount=amount+240\n",
    "        print(\"ur final amount is \",amount)\n",
    "    elif soft_ch==\"m\":\n",
    "        amount=amount+310\n",
    "        print(\"ur final amount is \",amount)\n",
    "    else:\n",
    "        print(\"this drink is not present\")\n",
    "else:\n",
    "    print(\"final amount is \",amount)\n",
    "    "
   ]
  },
  {
   "cell_type": "code",
   "execution_count": null,
   "id": "4447b912",
   "metadata": {},
   "outputs": [],
   "source": []
  }
 ],
 "metadata": {
  "kernelspec": {
   "display_name": "Python 3 (ipykernel)",
   "language": "python",
   "name": "python3"
  },
  "language_info": {
   "codemirror_mode": {
    "name": "ipython",
    "version": 3
   },
   "file_extension": ".py",
   "mimetype": "text/x-python",
   "name": "python",
   "nbconvert_exporter": "python",
   "pygments_lexer": "ipython3",
   "version": "3.9.7"
  }
 },
 "nbformat": 4,
 "nbformat_minor": 5
}
